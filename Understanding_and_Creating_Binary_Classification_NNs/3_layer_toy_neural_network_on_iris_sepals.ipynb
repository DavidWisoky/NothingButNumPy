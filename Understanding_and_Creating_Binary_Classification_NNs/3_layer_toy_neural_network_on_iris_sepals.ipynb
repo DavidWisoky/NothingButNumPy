{
 "cells": [
  {
   "cell_type": "markdown",
   "metadata": {},
   "source": [
    "# Nothing But NumPy: A 3-layer Binary Classification Neural Network on Iris Flowers\n",
    "\n",
    "Part of the blog [\"Nothing but NumPy: Understanding & Creating Binary Classification Neural Networks with Computational Graphs from Scratch\"](https://medium.com/@rafayak/nothing-but-numpy-understanding-creating-binary-classification-neural-networks-with-e746423c8d5c)- by [Rafay Khan](https://twitter.com/RafayAK)\n",
    "\n",
    "In this notebook we'll create a 3-layer neural network (i.e. one input one, one hidden layer and one output layer) and train it on Iris dataset using _only_ **sepals** as input features to classify **Iris-virginica vs. others**\n",
    "\n",
    "First, let's import NumPy, our neural net layers, the Binary Cross-Entropy(bce) Cost function and helper functions.\n",
    "\n",
    "_Feel free to look into the helper functions in the utils directory._"
   ]
  },
  {
   "cell_type": "code",
   "execution_count": 1,
   "metadata": {},
   "outputs": [],
   "source": [
    "import numpy as np\n",
    "from Layers.LinearLayer import LinearLayer\n",
    "from Layers.ActivationLayer import SigmoidLayer\n",
    "from util.utilities import *\n",
    "from util.cost_functions import compute_stable_bce_cost\n",
    "import matplotlib.pyplot as plt\n",
    "\n",
    "# to show all the generated plots inline in the notebook\n",
    "%matplotlib inline"
   ]
  },
  {
   "cell_type": "markdown",
   "metadata": {},
   "source": [
    "![](imgs/verg_vs_other.png)"
   ]
  },
  {
   "cell_type": "markdown",
   "metadata": {},
   "source": [
    "For convenience we'll load the data through [scikit-learn](https://scikit-learn.org/stable/index.html#). \n",
    "\n",
    "If you don't have it installed please refer to this [link](https://scikit-learn.org/stable/install.html)"
   ]
  },
  {
   "cell_type": "code",
   "execution_count": 2,
   "metadata": {},
   "outputs": [],
   "source": [
    "# load data from scikit-learn's datasets module\n",
    "from sklearn.datasets import load_iris\n",
    "\n",
    "iris = load_iris()  # returns a python dictionary with the dataset"
   ]
  },
  {
   "cell_type": "markdown",
   "metadata": {},
   "source": [
    "Let's see what the dataset contains:"
   ]
  },
  {
   "cell_type": "code",
   "execution_count": 3,
   "metadata": {},
   "outputs": [
    {
     "data": {
      "text/plain": [
       "['data', 'target', 'target_names', 'DESCR', 'feature_names', 'filename']"
      ]
     },
     "execution_count": 3,
     "metadata": {},
     "output_type": "execute_result"
    }
   ],
   "source": [
    "list(iris.keys())"
   ]
  },
  {
   "cell_type": "markdown",
   "metadata": {},
   "source": [
    "- **data**: contains the 4 features of each example in a row, has 150 rows\n",
    "- **target**: contains the label for each example _(0->setosa, 1->versicolor, 2->virginica)_\n",
    "- **target_names**: contains the names of each target label\n",
    "- **DESCR**: contains the desription of the dataset\n",
    "- **feature_names**: contains the names of the 4 features(sepal length, sepal width, petal length, petal width)\n",
    "- **filename** : where the file is located on the computer\n"
   ]
  },
  {
   "cell_type": "markdown",
   "metadata": {},
   "source": [
    "Let's explore the data:"
   ]
  },
  {
   "cell_type": "code",
   "execution_count": 4,
   "metadata": {},
   "outputs": [
    {
     "data": {
      "text/plain": [
       "(150, 4)"
      ]
     },
     "execution_count": 4,
     "metadata": {},
     "output_type": "execute_result"
    }
   ],
   "source": [
    "iris.data.shape  # rows(examples), cols(features)"
   ]
  },
  {
   "cell_type": "code",
   "execution_count": 5,
   "metadata": {},
   "outputs": [
    {
     "data": {
      "text/plain": [
       "(150,)"
      ]
     },
     "execution_count": 5,
     "metadata": {},
     "output_type": "execute_result"
    }
   ],
   "source": [
    "iris.target.shape # labels for 150 flowers "
   ]
  },
  {
   "cell_type": "code",
   "execution_count": 6,
   "metadata": {},
   "outputs": [
    {
     "data": {
      "text/plain": [
       "array(['setosa', 'versicolor', 'virginica'],\n",
       "      dtype='<U10')"
      ]
     },
     "execution_count": 6,
     "metadata": {},
     "output_type": "execute_result"
    }
   ],
   "source": [
    "iris.target_names  # print the name of the 3 labels(species) an example could belong to"
   ]
  },
  {
   "cell_type": "code",
   "execution_count": 7,
   "metadata": {},
   "outputs": [
    {
     "data": {
      "text/plain": [
       "['sepal length (cm)',\n",
       " 'sepal width (cm)',\n",
       " 'petal length (cm)',\n",
       " 'petal width (cm)']"
      ]
     },
     "execution_count": 7,
     "metadata": {},
     "output_type": "execute_result"
    }
   ],
   "source": [
    "iris.feature_names  # name of each feature in data's columns"
   ]
  },
  {
   "cell_type": "code",
   "execution_count": 8,
   "metadata": {},
   "outputs": [
    {
     "data": {
      "text/plain": [
       "array([[ 5.1,  3.5,  1.4,  0.2],\n",
       "       [ 4.9,  3. ,  1.4,  0.2],\n",
       "       [ 4.7,  3.2,  1.3,  0.2],\n",
       "       [ 4.6,  3.1,  1.5,  0.2],\n",
       "       [ 5. ,  3.6,  1.4,  0.2]])"
      ]
     },
     "execution_count": 8,
     "metadata": {},
     "output_type": "execute_result"
    }
   ],
   "source": [
    "iris.data[:5, :]  # print first 5 examples from the Iris dataset"
   ]
  },
  {
   "cell_type": "code",
   "execution_count": 9,
   "metadata": {},
   "outputs": [
    {
     "data": {
      "text/plain": [
       "array([0, 0, 0, 0, 0])"
      ]
     },
     "execution_count": 9,
     "metadata": {},
     "output_type": "execute_result"
    }
   ],
   "source": [
    "iris.target[:5]  # print labels for the first 5 examples in the Iris dataset"
   ]
  },
  {
   "cell_type": "markdown",
   "metadata": {},
   "source": [
    "So, the data of the **first** 5 examples looks as follows:\n",
    "\n",
    "| exmaple# | sepal length (cm) | sepal width (cm) | petal length (cm) | petal width (cm) | target | target name|\n",
    "| --- | --- | --- || --- | --- | --- |\n",
    "| 0 | 5.1 | 3.5 | 1.4 |  0.2| 0|  setosa\n",
    "| 1 |4.9|  3. |  1.4|  0.2|0|  setosa\n",
    "| 2 |4.7|  3.2|  1.3|  0.2|0|  setosa\n",
    "| 3 |4.6|  3.1|  1.5|  0.2|0|  setosa\n",
    "| 4 |5. |  3.6|  1.4|  0.2|0|  setosa"
   ]
  },
  {
   "cell_type": "markdown",
   "metadata": {},
   "source": [
    "For our model we will only use **sepal length and sepal width** to classify whether the Iris flower is _virginica_ or _other_"
   ]
  },
  {
   "cell_type": "code",
   "execution_count": 10,
   "metadata": {},
   "outputs": [],
   "source": [
    "# take only sepal length(0th col) and sepal width(1st col)\n",
    "X = iris.data[:, :2] \n",
    "\n",
    "# fix the labes shape so that instead of (150,) its (150,1),\n",
    "# helps avoiding weird broadcasting errors\n",
    "Y = (iris.target).reshape((150, 1))  "
   ]
  },
  {
   "cell_type": "code",
   "execution_count": 11,
   "metadata": {
    "scrolled": true
   },
   "outputs": [
    {
     "data": {
      "text/plain": [
       "(150, 2)"
      ]
     },
     "execution_count": 11,
     "metadata": {},
     "output_type": "execute_result"
    }
   ],
   "source": [
    "X.shape"
   ]
  },
  {
   "cell_type": "code",
   "execution_count": 12,
   "metadata": {},
   "outputs": [
    {
     "data": {
      "text/plain": [
       "(150, 1)"
      ]
     },
     "execution_count": 12,
     "metadata": {},
     "output_type": "execute_result"
    }
   ],
   "source": [
    "Y.shape"
   ]
  },
  {
   "cell_type": "markdown",
   "metadata": {},
   "source": [
    "**Notice** in the table above that the first 5 examples belong to __'setosa'__ species, this pattern continues in the dataset(the pattern is all _setosa_ examples followed by _versicolor_ examples and finally _virginica_ examples). ___A good practice is to randomize the data before training a neural network, so that the neural network does not, by accident, learn a trivial ordering pattern in the data.___\n",
    "\n",
    "So let's randomize the data"
   ]
  },
  {
   "cell_type": "code",
   "execution_count": 13,
   "metadata": {},
   "outputs": [],
   "source": [
    "np.random.seed(48)  # for reproducible randomization \n",
    "random_indices = np.random.permutation(len(X))  # genrate random indices\n",
    "\n",
    "X_train = X[random_indices]\n",
    "Y_train = Y[random_indices]"
   ]
  },
  {
   "cell_type": "markdown",
   "metadata": {},
   "source": [
    "Now let's again print the first 5 examples and see the results(note this time there are only two features - _sepal lenght_, _sepal width_ )"
   ]
  },
  {
   "cell_type": "code",
   "execution_count": 15,
   "metadata": {},
   "outputs": [
    {
     "data": {
      "text/plain": [
       "array([[ 5.7,  2.9],\n",
       "       [ 6.1,  2.8],\n",
       "       [ 6.1,  2.6],\n",
       "       [ 4.5,  2.3],\n",
       "       [ 5.9,  3.2]])"
      ]
     },
     "execution_count": 15,
     "metadata": {},
     "output_type": "execute_result"
    }
   ],
   "source": [
    "X_train[:5, :]"
   ]
  },
  {
   "cell_type": "code",
   "execution_count": 16,
   "metadata": {},
   "outputs": [
    {
     "data": {
      "text/plain": [
       "array([[1],\n",
       "       [1],\n",
       "       [2],\n",
       "       [0],\n",
       "       [1]])"
      ]
     },
     "execution_count": 16,
     "metadata": {},
     "output_type": "execute_result"
    }
   ],
   "source": [
    "Y_train[:5]"
   ]
  },
  {
   "cell_type": "markdown",
   "metadata": {},
   "source": [
    "Now, the data of the **first** 5 examples looks as follows:\n",
    "\n",
    "| exmaple# | sepal length (cm) | sepal width (cm) | target | target name|\n",
    "| --- | --- | --- || --- | \n",
    "| 0 |  5.7|  2.9| 1|  versicolor \n",
    "| 1 |  6.1|  2.8| 1|  versicolor\n",
    "| 2 |  6.1|  2.6| 2|  virginica\n",
    "| 3 |  4.5|  2.3| 0|  setosa\n",
    "| 4 |  5.9|  3.2| 1|  versicolor\n",
    "\n",
    "\n",
    "Finally, let's put the training set(`X_train`)  & and labels(`Y_train`) in the correct shape `(feat, examples)` and `(examples,1)`, respectively. Also we'll make the target label ___virginica=1___ and the rest ___0___.  "
   ]
  },
  {
   "cell_type": "code",
   "execution_count": 17,
   "metadata": {},
   "outputs": [],
   "source": [
    "# Transpose the data so that it's in the correct shape \n",
    "# for passing through neural network\n",
    "# also binarize the classes viginica=1 and the rest 0\n",
    "X_train = X_train.T\n",
    "Y_train = Y_train.T  \n",
    "Y_train = (Y_train==2).astype('int')  # uses bool logic  to binarize labels, wherever label=2 output True(1) rest Flase(0)           "
   ]
  },
  {
   "cell_type": "code",
   "execution_count": 18,
   "metadata": {
    "scrolled": true
   },
   "outputs": [
    {
     "name": "stdout",
     "output_type": "stream",
     "text": [
      "Shape of training data, X_train: (2, 150)\n",
      "Shape of  labels, Y_train: (1, 150)\n"
     ]
    }
   ],
   "source": [
    "print(\"Shape of training data, X_train: {}\".format(X_train.shape))\n",
    "print(\"Shape of  labels, Y_train: {}\".format(Y_train.shape))"
   ]
  },
  {
   "cell_type": "code",
   "execution_count": 19,
   "metadata": {
    "scrolled": true
   },
   "outputs": [
    {
     "data": {
      "text/plain": [
       "array([[0, 0, 1, 0, 0]])"
      ]
     },
     "execution_count": 19,
     "metadata": {},
     "output_type": "execute_result"
    }
   ],
   "source": [
    "Y_train[:, :5]  # print first five examples"
   ]
  },
  {
   "cell_type": "markdown",
   "metadata": {},
   "source": [
    "Before training the neural net let's visulaize the data: "
   ]
  },
  {
   "cell_type": "code",
   "execution_count": 20,
   "metadata": {},
   "outputs": [
    {
     "data": {
      "image/png": "[encoded data removed]",
      "text/plain": [
       "<Figure size 432x288 with 1 Axes>"
      ]
     },
     "metadata": {
      "needs_background": "light"
     },
     "output_type": "display_data"
    }
   ],
   "source": [
    "cmap = matplotlib.colors.ListedColormap([\"red\", \"green\"], name='from_list', N=None)\n",
    "# scattter plot\n",
    "scatter = plt.scatter(X_train.T[:, 0], X_train.T[:, 1], \n",
    "            s=200, c=np.squeeze(Y_train.T), \n",
    "            marker='x', cmap=cmap)  # s-> size of marker\n",
    "\n",
    "plt.xlabel('sepal lenght', size=20)\n",
    "plt.ylabel('sepal width', size=20)\n",
    "\n",
    "plt.legend(scatter.legend_elements()[0], ['others', 'virginica'])\n",
    "\n",
    "plt.show()"
   ]
  },
  {
   "cell_type": "markdown",
   "metadata": {},
   "source": [
    "### Notice that this data is very tough to classify perfectly, as many of the data points are intertwined( i.e some green and red points are too close to each other) "
   ]
  },
  {
   "cell_type": "markdown",
   "metadata": {},
   "source": [
    "***\n",
    "***"
   ]
  },
  {
   "cell_type": "markdown",
   "metadata": {},
   "source": [
    "#### Now we are ready to setup and train the Neural Network\n",
    "\n",
    "This is the neural net architecture we'll use\n",
    "\n",
    "![](imgs/2in_3_layer_NN.png)"
   ]
  },
  {
   "cell_type": "code",
   "execution_count": 21,
   "metadata": {},
   "outputs": [],
   "source": [
    "# define training constants\n",
    "learning_rate = 1\n",
    "number_of_epochs = 10000\n",
    "\n",
    "np.random.seed(48) # set seed value so that the results are reproduceable\n",
    "                  # (weights will now be initailzaed to the same pseudo-random numbers, each time)\n",
    "\n",
    "\n",
    "# Our network architecture has the shape: \n",
    "#           (input)--> [Linear->Sigmoid] -> [Linear->Sigmoid] -> [Linear->Sigmoid] -->(output)  \n",
    "\n",
    "#------ LAYER-1 ----- define 1st hidden layer that takes in training data \n",
    "Z1 = LinearLayer(input_shape=X_train.shape, n_out=5, ini_type='xavier')\n",
    "A1 = SigmoidLayer(Z1.Z.shape)\n",
    "\n",
    "#------ LAYER-2 ----- define 2nd hidden layer that takes in values from 1st-hidden layer\n",
    "Z2= LinearLayer(input_shape=A1.A.shape, n_out= 3, ini_type='xavier')\n",
    "A2= SigmoidLayer(Z2.Z.shape)\n",
    "\n",
    "\n",
    "#------ LAYER-3 ----- define output layer that takes in values from 2nd-hidden layer\n",
    "Z3= LinearLayer(input_shape=A2.A.shape, n_out=1, ini_type='xavier')\n",
    "A3= SigmoidLayer(Z3.Z.shape)"
   ]
  },
  {
   "cell_type": "markdown",
   "metadata": {},
   "source": [
    "Now we can start the training loop:"
   ]
  },
  {
   "cell_type": "code",
   "execution_count": 22,
   "metadata": {},
   "outputs": [
    {
     "name": "stdout",
     "output_type": "stream",
     "text": [
      "Cost at epoch#0: 0.6667400084592768\n",
      "Cost at epoch#100: 0.6302928461973847\n",
      "Cost at epoch#200: 0.5709289459585686\n",
      "Cost at epoch#300: 0.5186742755369246\n",
      "Cost at epoch#400: 0.459962391632051\n",
      "Cost at epoch#500: 0.4513239451183089\n",
      "Cost at epoch#600: 0.4474114673868234\n",
      "Cost at epoch#700: 0.44591618452429194\n",
      "Cost at epoch#800: 0.4440500019262934\n",
      "Cost at epoch#900: 0.4445422747431329\n",
      "Cost at epoch#1000: 0.4447222560300399\n",
      "Cost at epoch#1100: 0.44468895649070467\n",
      "Cost at epoch#1200: 0.444513016851467\n",
      "Cost at epoch#1300: 0.44424310464735944\n",
      "Cost at epoch#1400: 0.4439079365579478\n",
      "Cost at epoch#1500: 0.44352277927682443\n",
      "Cost at epoch#1600: 0.44309484495031315\n",
      "Cost at epoch#1700: 0.4426269032540103\n",
      "Cost at epoch#1800: 0.44211962268537824\n",
      "Cost at epoch#1900: 0.44157314460972397\n",
      "Cost at epoch#2000: 0.4409881537658576\n",
      "Cost at epoch#2100: 0.44036652067718157\n",
      "Cost at epoch#2200: 0.4397115203535574\n",
      "Cost at epoch#2300: 0.4390276642670329\n",
      "Cost at epoch#2400: 0.43832025974366723\n",
      "Cost at epoch#2500: 0.43759486309421536\n",
      "Cost at epoch#2600: 0.43685678275515305\n",
      "Cost at epoch#2700: 0.43611072799072403\n",
      "Cost at epoch#2800: 0.43536062623941796\n",
      "Cost at epoch#2900: 0.4346095806889408\n",
      "Cost at epoch#3000: 0.43385991921259237\n",
      "Cost at epoch#3100: 0.43311328873358124\n",
      "Cost at epoch#3200: 0.43237076251124074\n",
      "Cost at epoch#3300: 0.43163294208185055\n",
      "Cost at epoch#3400: 0.4309000461916758\n",
      "Cost at epoch#3500: 0.43017198533157436\n",
      "Cost at epoch#3600: 0.4294484233996418\n",
      "Cost at epoch#3700: 0.42872882887118996\n",
      "Cost at epoch#3800: 0.42801251766568066\n",
      "Cost at epoch#3900: 0.4272986893144104\n",
      "Cost at epoch#4000: 0.4265864574027432\n",
      "Cost at epoch#4100: 0.4258748747549662\n",
      "Cost at epoch#4200: 0.42516295351561867\n",
      "Cost at epoch#4300: 0.4244496801706377\n",
      "Cost at epoch#4400: 0.4237340256236626\n",
      "Cost at epoch#4500: 0.42301495065322564\n",
      "Cost at epoch#4600: 0.4222914073672061\n",
      "Cost at epoch#4700: 0.4215623375807977\n",
      "Cost at epoch#4800: 0.4208266693215226\n",
      "Cost at epoch#4900: 0.42008331287705547\n",
      "Cost at epoch#5000: 0.41933115794019815\n",
      "Cost at epoch#5100: 0.4185690734836653\n",
      "Cost at epoch#5200: 0.4177959120426697\n",
      "Cost at epoch#5300: 0.41701052012519374\n",
      "Cost at epoch#5400: 0.41621175652709386\n",
      "Cost at epoch#5500: 0.415398520396492\n",
      "Cost at epoch#5600: 0.41456979092670226\n",
      "Cost at epoch#5700: 0.41372468046501054\n",
      "Cost at epoch#5800: 0.41286250244686284\n",
      "Cost at epoch#5900: 0.41198285466902285\n",
      "Cost at epoch#6000: 0.4110857167077694\n",
      "Cost at epoch#6100: 0.4101715574732299\n",
      "Cost at epoch#6200: 0.4092414448093109\n",
      "Cost at epoch#6300: 0.40829714392212585\n",
      "Cost at epoch#6400: 0.40734118616365816\n",
      "Cost at epoch#6500: 0.4063768861419422\n",
      "Cost at epoch#6600: 0.4054082858426165\n",
      "Cost at epoch#6700: 0.40444001184231304\n",
      "Cost at epoch#6800: 0.4034770464431862\n",
      "Cost at epoch#6900: 0.4025244330564821\n",
      "Cost at epoch#7000: 0.4015869543958715\n",
      "Cost at epoch#7100: 0.40066883177815055\n",
      "Cost at epoch#7200: 0.39977349041297944\n",
      "Cost at epoch#7300: 0.3989034198286793\n",
      "Cost at epoch#7400: 0.39806013660990763\n",
      "Cost at epoch#7500: 0.3972442364016274\n",
      "Cost at epoch#7600: 0.39645550954561487\n",
      "Cost at epoch#7700: 0.39569309146252823\n",
      "Cost at epoch#7800: 0.394955623044847\n",
      "Cost at epoch#7900: 0.39424140433338883\n",
      "Cost at epoch#8000: 0.39354853332507067\n",
      "Cost at epoch#8100: 0.39287502880173447\n",
      "Cost at epoch#8200: 0.39221894068439594\n",
      "Cost at epoch#8300: 0.39157845348748693\n",
      "Cost at epoch#8400: 0.39095198818438753\n",
      "Cost at epoch#8500: 0.3903383054804529\n",
      "Cost at epoch#8600: 0.3897366094313756\n",
      "Cost at epoch#8700: 0.3891466449076261\n",
      "Cost at epoch#8800: 0.38856877581258586\n",
      "Cost at epoch#8900: 0.38800402242888443\n",
      "Cost at epoch#9000: 0.3874540220102007\n",
      "Cost at epoch#9100: 0.3869208465308241\n",
      "Cost at epoch#9200: 0.38640654356250503\n",
      "Cost at epoch#9300: 0.3859121199202252\n",
      "Cost at epoch#9400: 0.385435396529364\n",
      "Cost at epoch#9500: 0.3849666690102662\n",
      "Cost at epoch#9600: 0.38448076922649005\n",
      "Cost at epoch#9700: 0.3839273351964421\n",
      "Cost at epoch#9800: 0.38324255509741856\n",
      "Cost at epoch#9900: 0.38244362698615847\n",
      "Cost at epoch#9999: 0.38255461005942853\n"
     ]
    }
   ],
   "source": [
    "costs = [] # initially empty list, this will store all the costs after a certian number of epochs\n",
    "\n",
    "# Start training\n",
    "for epoch in range(number_of_epochs):\n",
    "    \n",
    "    # ------------------------- forward-prop -------------------------\n",
    "    Z1.forward(X_train)\n",
    "    A1.forward(Z1.Z)\n",
    "    \n",
    "    Z2.forward(A1.A)\n",
    "    A2.forward(Z2.Z)\n",
    "    \n",
    "    Z3.forward(A2.A)\n",
    "    A3.forward(Z3.Z)\n",
    "    \n",
    "    # ---------------------- Compute Cost ----------------------------\n",
    "    cost, dZ3 = compute_stable_bce_cost(Y=Y_train, Z=Z3.Z)\n",
    "    \n",
    "    # print and store Costs every 100 iterations and of the last iteration.\n",
    "    if (epoch % 100) == 0 or epoch == number_of_epochs - 1:\n",
    "        print(\"Cost at epoch#{}: {}\".format(epoch, cost))\n",
    "        costs.append(cost)\n",
    "    \n",
    "    # ------------------------- back-prop ----------------------------\n",
    "    \n",
    "    Z3.backward(dZ3)\n",
    "    \n",
    "    A2.backward(Z3.dA_prev)\n",
    "    Z2.backward(A2.dZ)\n",
    "    \n",
    "    A1.backward(Z2.dA_prev)\n",
    "    Z1.backward(A1.dZ)\n",
    "    \n",
    "    # ----------------------- Update weights and bias ----------------\n",
    "    Z3.update_params(learning_rate=learning_rate)\n",
    "    Z2.update_params(learning_rate=learning_rate)\n",
    "    Z1.update_params(learning_rate=learning_rate)"
   ]
  },
  {
   "cell_type": "markdown",
   "metadata": {},
   "source": [
    "Now let's see how well the neural net peforms on the training data after the training as finished\n",
    "\n",
    "`predict` helper functionin the cell below returns three things:\n",
    "\n",
    "* `p`: predicted labels (output 1 if predictded output is greater than classification threshold `thresh`)\n",
    "* `probas`: raw probabilities (how sure the neural net thinks the output is 1, this is just `P_hat`)\n",
    "* `accuracy`: the number of correct predictions from total predictions\n",
    "\n"
   ]
  },
  {
   "cell_type": "code",
   "execution_count": 23,
   "metadata": {},
   "outputs": [
    {
     "name": "stdout",
     "output_type": "stream",
     "text": [
      "The predicted outputs of first 5 examples: \n",
      "[[ 0.  1.  1.  0.  0.]]\n",
      "The predicted prbabilities of first 5 examples:\n",
      " [[ 0.355  0.579  0.549  0.067  0.366]]\n",
      "\n",
      "The accuracy of the model is: 80.66666666666666%\n"
     ]
    }
   ],
   "source": [
    "classifcation_thresh = 0.5\n",
    "\n",
    "\n",
    "predicted_outputs, p_hat, accuracy = predict(X=X_train, Y=Y_train, \n",
    "                                             Zs=[Z1, Z2, Z3], As=[A1, A2, A3], thresh=classifcation_thresh)\n",
    "\n",
    "print(\"The predicted outputs of first 5 examples: \\n{}\".format(predicted_outputs[:,:5]))\n",
    "print(\"The predicted prbabilities of first 5 examples:\\n {}\".format(np.round(p_hat[:, :5], decimals=3)) )\n",
    "print(\"\\nThe accuracy of the model is: {}%\".format(accuracy))"
   ]
  },
  {
   "cell_type": "markdown",
   "metadata": {},
   "source": [
    "#### The Learning Curve"
   ]
  },
  {
   "cell_type": "code",
   "execution_count": 24,
   "metadata": {
    "scrolled": true
   },
   "outputs": [
    {
     "data": {
      "image/png": "[encoded data removed]",
      "text/plain": [
       "<Figure size 432x288 with 1 Axes>"
      ]
     },
     "metadata": {
      "needs_background": "light"
     },
     "output_type": "display_data"
    }
   ],
   "source": [
    "plot_learning_curve(costs, learning_rate, total_epochs=number_of_epochs)"
   ]
  },
  {
   "cell_type": "markdown",
   "metadata": {},
   "source": [
    "#### The Decision Boundary"
   ]
  },
  {
   "cell_type": "code",
   "execution_count": 25,
   "metadata": {
    "scrolled": true
   },
   "outputs": [
    {
     "data": {
      "image/png": "[encoded data removed]",
      "text/plain": [
       "<Figure size 432x288 with 1 Axes>"
      ]
     },
     "metadata": {
      "needs_background": "light"
     },
     "output_type": "display_data"
    }
   ],
   "source": [
    "plot_decision_boundary(lambda x: predict_dec(Zs=[Z1, Z2, Z3], As=[A1, A2, A3], X=x.T, thresh=classifcation_thresh), \n",
    "                       X=X_train.T, Y=Y_train)"
   ]
  },
  {
   "cell_type": "markdown",
   "metadata": {},
   "source": [
    "#### The Shaded Decision Boundary"
   ]
  },
  {
   "cell_type": "code",
   "execution_count": 26,
   "metadata": {},
   "outputs": [
    {
     "data": {
      "image/png": "[encoded data removed]",
      "text/plain": [
       "<Figure size 432x288 with 1 Axes>"
      ]
     },
     "metadata": {},
     "output_type": "display_data"
    }
   ],
   "source": [
    "plot_decision_boundary_shaded(lambda x: predict_dec(Zs=[Z1, Z2, Z3], As=[A1, A1, A3], X=x.T, thresh=classifcation_thresh), \n",
    "                       X=X_train.T, Y=Y_train)"
   ]
  },
  {
   "cell_type": "markdown",
   "metadata": {},
   "source": [
    "## Bounus\n",
    "\n",
    "Train this dataset using only a 1-layer or 2-layer neural network\n",
    "\n",
    "_(Hint: works slightly better)_"
   ]
  }
 ],
 "metadata": {
  "kernelspec": {
   "display_name": "Python 3",
   "language": "python",
   "name": "python3"
  },
  "language_info": {
   "codemirror_mode": {
    "name": "ipython",
    "version": 3
   },
   "file_extension": ".py",
   "mimetype": "text/x-python",
   "name": "python",
   "nbconvert_exporter": "python",
   "pygments_lexer": "ipython3",
   "version": "3.7.7"
  }
 },
 "nbformat": 4,
 "nbformat_minor": 4
}

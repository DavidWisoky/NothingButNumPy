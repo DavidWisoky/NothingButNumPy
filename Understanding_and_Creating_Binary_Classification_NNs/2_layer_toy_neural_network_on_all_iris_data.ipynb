{
 "cells": [
  {
   "cell_type": "markdown",
   "metadata": {},
   "source": [
    "# Nothing But NumPy: A 2-layer Binary Classification Neural Network on Iris Flowers\n",
    "\n",
    "Part of the blog [\"Nothing but NumPy: Understanding & Creating Binary Classification Neural Networks with Computational Graphs from Scratch\"](https://medium.com/@rafayak/nothing-but-numpy-understanding-creating-binary-classification-neural-networks-with-e746423c8d5c)- by [Rafay Khan](https://twitter.com/RafayAK)\n",
    "\n",
    "In this notebook we'll create a 2-layer neural network (i.e. one input and one output layer) and train it on the eintire Iris dataset to classify **Iris-virginica vs. others**\n",
    "\n",
    "First, let's import NumPy, our neural net Layers, the Binary Cross-Entropy(bce) Cost function and helper functions.\n",
    "\n",
    "_Feel free to look into the helper functions in the utils directory._"
   ]
  },
  {
   "cell_type": "code",
   "execution_count": 1,
   "metadata": {},
   "outputs": [],
   "source": [
    "import numpy as np\n",
    "from Layers.LinearLayer import LinearLayer\n",
    "from Layers.ActivationLayer import SigmoidLayer\n",
    "from util.utilities import *\n",
    "from util.cost_functions import compute_stable_bce_cost\n",
    "import matplotlib.pyplot as plt\n",
    "\n",
    "# to show all the generated plots inline in the notebook\n",
    "%matplotlib inline"
   ]
  },
  {
   "cell_type": "markdown",
   "metadata": {},
   "source": [
    "![](imgs/verg_vs_other.png)"
   ]
  },
  {
   "cell_type": "markdown",
   "metadata": {},
   "source": [
    "For convenience we'll load the data through [scikit-learn](https://scikit-learn.org/stable/index.html#). \n",
    "\n",
    "_If you don't have it installed please refer to this [link](https://scikit-learn.org/stable/install.html)_"
   ]
  },
  {
   "cell_type": "code",
   "execution_count": 2,
   "metadata": {},
   "outputs": [],
   "source": [
    "# load data from scikit-learn's datasets module\n",
    "from sklearn.datasets import load_iris\n",
    "\n",
    "iris = load_iris()  # returns a python dictionary with the dataset"
   ]
  },
  {
   "cell_type": "markdown",
   "metadata": {},
   "source": [
    "Let's see what the dataset contains:"
   ]
  },
  {
   "cell_type": "code",
   "execution_count": 3,
   "metadata": {},
   "outputs": [
    {
     "data": {
      "text/plain": [
       "['data', 'target', 'target_names', 'DESCR', 'feature_names', 'filename']"
      ]
     },
     "execution_count": 3,
     "metadata": {},
     "output_type": "execute_result"
    }
   ],
   "source": [
    "list(iris.keys())"
   ]
  },
  {
   "cell_type": "markdown",
   "metadata": {},
   "source": [
    "- **data**: contains the 4 features of each example in a row, has 150 rows\n",
    "- **target**: contains the label for each example _(0->setosa, 1->versicolor, 2->virginica)_\n",
    "- **target_names**: contains the names of each target label\n",
    "- **DESCR**: contains the desription of the dataset\n",
    "- **feature_names**: contains the names of the 4 features(sepal length, sepal width, petal length, petal width)\n",
    "- **filename** : where the file is located on the computer\n"
   ]
  },
  {
   "cell_type": "markdown",
   "metadata": {},
   "source": [
    "Let's explore the data:"
   ]
  },
  {
   "cell_type": "code",
   "execution_count": 4,
   "metadata": {},
   "outputs": [
    {
     "data": {
      "text/plain": [
       "(150, 4)"
      ]
     },
     "execution_count": 4,
     "metadata": {},
     "output_type": "execute_result"
    }
   ],
   "source": [
    "iris.data.shape  # rows(examples), cols(features)"
   ]
  },
  {
   "cell_type": "code",
   "execution_count": 5,
   "metadata": {},
   "outputs": [
    {
     "data": {
      "text/plain": [
       "(150,)"
      ]
     },
     "execution_count": 5,
     "metadata": {},
     "output_type": "execute_result"
    }
   ],
   "source": [
    "iris.target.shape # labels for 150 flowers "
   ]
  },
  {
   "cell_type": "code",
   "execution_count": 6,
   "metadata": {},
   "outputs": [
    {
     "data": {
      "text/plain": [
       "array(['setosa', 'versicolor', 'virginica'],\n",
       "      dtype='<U10')"
      ]
     },
     "execution_count": 6,
     "metadata": {},
     "output_type": "execute_result"
    }
   ],
   "source": [
    "iris.target_names  # print the name of the 3 labels(species) an example could belong to"
   ]
  },
  {
   "cell_type": "code",
   "execution_count": 7,
   "metadata": {},
   "outputs": [
    {
     "data": {
      "text/plain": [
       "['sepal length (cm)',\n",
       " 'sepal width (cm)',\n",
       " 'petal length (cm)',\n",
       " 'petal width (cm)']"
      ]
     },
     "execution_count": 7,
     "metadata": {},
     "output_type": "execute_result"
    }
   ],
   "source": [
    "iris.feature_names  # name of each feature in data's columns"
   ]
  },
  {
   "cell_type": "code",
   "execution_count": 8,
   "metadata": {},
   "outputs": [
    {
     "data": {
      "text/plain": [
       "array([[ 5.1,  3.5,  1.4,  0.2],\n",
       "       [ 4.9,  3. ,  1.4,  0.2],\n",
       "       [ 4.7,  3.2,  1.3,  0.2],\n",
       "       [ 4.6,  3.1,  1.5,  0.2],\n",
       "       [ 5. ,  3.6,  1.4,  0.2]])"
      ]
     },
     "execution_count": 8,
     "metadata": {},
     "output_type": "execute_result"
    }
   ],
   "source": [
    "iris.data[:5, :]  # print first 5 examples from the Iris dataset"
   ]
  },
  {
   "cell_type": "code",
   "execution_count": 9,
   "metadata": {},
   "outputs": [
    {
     "data": {
      "text/plain": [
       "array([0, 0, 0, 0, 0])"
      ]
     },
     "execution_count": 9,
     "metadata": {},
     "output_type": "execute_result"
    }
   ],
   "source": [
    "iris.target[:5]  # print labels for the first 5 examples in the Iris dataset"
   ]
  },
  {
   "cell_type": "markdown",
   "metadata": {},
   "source": [
    "So, the data of the **first** 5 examples looks as follows:\n",
    "\n",
    "| exmaple# | sepal length (cm) | sepal width (cm) | petal length (cm) | petal width (cm) | target | target name|\n",
    "| --- | --- | --- || --- | --- | --- |\n",
    "| 0 | 5.1 | 3.5 | 1.4 |  0.2| 0|  setosa\n",
    "| 1 |4.9|  3. |  1.4|  0.2|0|  setosa\n",
    "| 2 |4.7|  3.2|  1.3|  0.2|0|  setosa\n",
    "| 3 |4.6|  3.1|  1.5|  0.2|0|  setosa\n",
    "| 4 |5. |  3.6|  1.4|  0.2|0|  setosa"
   ]
  },
  {
   "cell_type": "markdown",
   "metadata": {},
   "source": [
    "We need to fix the shape of the target array as a precaution so that it's shape matches the input data"
   ]
  },
  {
   "cell_type": "code",
   "execution_count": 10,
   "metadata": {},
   "outputs": [],
   "source": [
    "# X(input) will be entire training data\n",
    "X = iris.data \n",
    "\n",
    "# fix the labes shape so that instead of (150,) its (150,1),\n",
    "# helps avoiding weird broadcasting errors\n",
    "Y = (iris.target).reshape((150, 1))  "
   ]
  },
  {
   "cell_type": "code",
   "execution_count": 11,
   "metadata": {
    "scrolled": true
   },
   "outputs": [
    {
     "data": {
      "text/plain": [
       "(150, 4)"
      ]
     },
     "execution_count": 11,
     "metadata": {},
     "output_type": "execute_result"
    }
   ],
   "source": [
    "X.shape"
   ]
  },
  {
   "cell_type": "code",
   "execution_count": 12,
   "metadata": {},
   "outputs": [
    {
     "data": {
      "text/plain": [
       "(150, 1)"
      ]
     },
     "execution_count": 12,
     "metadata": {},
     "output_type": "execute_result"
    }
   ],
   "source": [
    "Y.shape"
   ]
  },
  {
   "cell_type": "markdown",
   "metadata": {},
   "source": [
    "**Notice** in the table above that the first 5 examples belong to __'setosa'__ species, this pattern continues in the dataset(the pattern is all _setosa_ examples followed by _versicolor_ examples and finally _virginica_ examples). ___A good practice is to randomize the data before training a neural network, so that the neural network does not, by accident, learn a trivial ordering pattern in the data.___\n",
    "\n",
    "So let's randomize the data"
   ]
  },
  {
   "cell_type": "code",
   "execution_count": 13,
   "metadata": {},
   "outputs": [],
   "source": [
    "np.random.seed(48)  # for reproducible randomization \n",
    "random_indices = np.random.permutation(len(X))  # genrate random permutation of indices\n",
    "\n",
    "X_train = X[random_indices]\n",
    "Y_train = Y[random_indices]"
   ]
  },
  {
   "cell_type": "markdown",
   "metadata": {},
   "source": [
    "Now let's again print the first 5 examples and see the results(note this time features are only two - petal lenght, petal width )"
   ]
  },
  {
   "cell_type": "code",
   "execution_count": 14,
   "metadata": {
    "scrolled": true
   },
   "outputs": [
    {
     "data": {
      "text/plain": [
       "array([[ 5.7,  2.9,  4.2,  1.3],\n",
       "       [ 6.1,  2.8,  4.7,  1.2],\n",
       "       [ 6.1,  2.6,  5.6,  1.4],\n",
       "       [ 4.5,  2.3,  1.3,  0.3],\n",
       "       [ 5.9,  3.2,  4.8,  1.8]])"
      ]
     },
     "execution_count": 14,
     "metadata": {},
     "output_type": "execute_result"
    }
   ],
   "source": [
    "X_train[:5, :]"
   ]
  },
  {
   "cell_type": "code",
   "execution_count": 15,
   "metadata": {},
   "outputs": [
    {
     "data": {
      "text/plain": [
       "array([[1],\n",
       "       [1],\n",
       "       [2],\n",
       "       [0],\n",
       "       [1]])"
      ]
     },
     "execution_count": 15,
     "metadata": {},
     "output_type": "execute_result"
    }
   ],
   "source": [
    "Y_train[:5]"
   ]
  },
  {
   "cell_type": "markdown",
   "metadata": {},
   "source": [
    "Now, the data of the **first** 5 examples looks as follows:\n",
    "\n",
    "| exmaple# | sepal length (cm) | sepal width (cm) | petal length (cm) | petal width (cm) | target | target name|\n",
    "| --- | --- | --- || --- | --- | --- |\n",
    "| 0 | 5.7|  2.9|  4.2|  1.3| 1|  versicolor\n",
    "| 1 | 6.1|  2.8|  4.7|  1.2|1|  versicolor\n",
    "| 2 |6.1 |  2.6|  5.6|  1.4|2|  virginica\n",
    "| 3 |4.5 |  2.3|  1.3|  0.3|0|  setosa\n",
    "| 4 | 5.9|  3.2|  4.8|  1.8|1|  versicolor\n",
    "\n",
    "\n",
    "Finally, let's put training set(`X_train`)  & and labels(`Y_train`) in the correct shape `(feat, examples)` and  `(examples,1)`, respectively. Also we'll make the target label ___virginica=1___ and the rest ___0___.  "
   ]
  },
  {
   "cell_type": "code",
   "execution_count": 16,
   "metadata": {},
   "outputs": [],
   "source": [
    "# Transpose the data so that it's in the correct shape \n",
    "# for passing through neural network\n",
    "# also binarize the classes viginica=1 and the rest 0\n",
    "X_train = X_train.T\n",
    "Y_train = Y_train.T  \n",
    "Y_train = (Y_train==2).astype('int')  # uses bool logic  to binarize labels, wherever label=2 output True(1) rest Flase(0)           "
   ]
  },
  {
   "cell_type": "code",
   "execution_count": 17,
   "metadata": {},
   "outputs": [
    {
     "name": "stdout",
     "output_type": "stream",
     "text": [
      "Shape of training data, X_train: (4, 150)\n",
      "Shape of  labels, Y_train: (1, 150)\n"
     ]
    }
   ],
   "source": [
    "print(\"Shape of training data, X_train: {}\".format(X_train.shape))\n",
    "print(\"Shape of  labels, Y_train: {}\".format(Y_train.shape))"
   ]
  },
  {
   "cell_type": "code",
   "execution_count": 18,
   "metadata": {
    "scrolled": true
   },
   "outputs": [
    {
     "data": {
      "text/plain": [
       "array([[0, 0, 1, 0, 0]])"
      ]
     },
     "execution_count": 18,
     "metadata": {},
     "output_type": "execute_result"
    }
   ],
   "source": [
    "Y_train[:, :5]  # print first five examples"
   ]
  },
  {
   "cell_type": "markdown",
   "metadata": {},
   "source": [
    "Since the number of features are 4 in this dataset we cannot visuallize it on a 2-D plot😒 "
   ]
  },
  {
   "cell_type": "markdown",
   "metadata": {},
   "source": [
    "***\n",
    "***"
   ]
  },
  {
   "cell_type": "markdown",
   "metadata": {},
   "source": [
    "#### Now we are ready to setup and train the Neural Network\n",
    "\n",
    "This is the neural net architecture we'll use\n",
    "\n",
    "![](imgs/4in_2_layer_NN.png)"
   ]
  },
  {
   "cell_type": "code",
   "execution_count": 19,
   "metadata": {},
   "outputs": [],
   "source": [
    "# define training constants\n",
    "learning_rate = 0.3\n",
    "number_of_epochs = 5000\n",
    "\n",
    "np.random.seed(48) # set seed value so that the results are reproduceable\n",
    "                  # (weights will now be initailzaed to the same pseudo-random numbers, each time)\n",
    "\n",
    "\n",
    "# Our network architecture has the shape: \n",
    "#                   (input)--> [Linear->Sigmoid] -> [Linear->Sigmoid] -->(output)  \n",
    "\n",
    "#------ LAYER-1 ----- define hidden layer that takes in training data \n",
    "Z1 = LinearLayer(input_shape=X_train.shape, n_out=3, ini_type='xavier')\n",
    "A1 = SigmoidLayer(Z1.Z.shape)\n",
    "\n",
    "#------ LAYER-2 ----- define output layer that takes in values from hidden layer\n",
    "Z2= LinearLayer(input_shape=A1.A.shape, n_out= 1, ini_type='xavier')\n",
    "A2= SigmoidLayer(Z2.Z.shape)"
   ]
  },
  {
   "cell_type": "markdown",
   "metadata": {},
   "source": [
    "Now we can start the training loop:"
   ]
  },
  {
   "cell_type": "code",
   "execution_count": 20,
   "metadata": {},
   "outputs": [
    {
     "name": "stdout",
     "output_type": "stream",
     "text": [
      "Cost at epoch#0: 0.5842834152498868\n",
      "Cost at epoch#100: 0.36310976755875046\n",
      "Cost at epoch#200: 0.2312121547146245\n",
      "Cost at epoch#300: 0.20815465292508076\n",
      "Cost at epoch#400: 0.15236070381583322\n",
      "Cost at epoch#500: 0.12396740039354323\n",
      "Cost at epoch#600: 0.10787788203569885\n",
      "Cost at epoch#700: 0.09750860915431853\n",
      "Cost at epoch#800: 0.09028448866093153\n",
      "Cost at epoch#900: 0.08497225692281726\n",
      "Cost at epoch#1000: 0.08090311871991471\n",
      "Cost at epoch#1100: 0.07768356139449455\n",
      "Cost at epoch#1200: 0.07506790890045067\n",
      "Cost at epoch#1300: 0.07289557330707988\n",
      "Cost at epoch#1400: 0.07105762631932071\n",
      "Cost at epoch#1500: 0.06947787956085147\n",
      "Cost at epoch#1600: 0.06810164192309977\n",
      "Cost at epoch#1700: 0.06688876399133185\n",
      "Cost at epoch#1800: 0.06580918596634044\n",
      "Cost at epoch#1900: 0.06484000390592067\n",
      "Cost at epoch#2000: 0.06396348719044047\n",
      "Cost at epoch#2100: 0.06316570898725746\n",
      "Cost at epoch#2200: 0.06243558167500952\n",
      "Cost at epoch#2300: 0.06176416575211792\n",
      "Cost at epoch#2400: 0.06114416711531772\n",
      "Cost at epoch#2500: 0.06056956640019008\n",
      "Cost at epoch#2600: 0.06003534239021894\n",
      "Cost at epoch#2700: 0.05953726338953337\n",
      "Cost at epoch#2800: 0.05907172832083099\n",
      "Cost at epoch#2900: 0.05863564460852778\n",
      "Cost at epoch#3000: 0.058226333536848314\n",
      "Cost at epoch#3100: 0.05784145629892699\n",
      "Cost at epoch#3200: 0.05747895573787877\n",
      "Cost at epoch#3300: 0.057137010059214795\n",
      "Cost at epoch#3400: 0.056813995720735394\n",
      "Cost at epoch#3500: 0.056508457384639124\n",
      "Cost at epoch#3600: 0.05621908331717527\n",
      "Cost at epoch#3700: 0.05594468499196455\n",
      "Cost at epoch#3800: 0.05568417992764552\n",
      "Cost at epoch#3900: 0.05543657699232723\n",
      "Cost at epoch#4000: 0.05520096355297109\n",
      "Cost at epoch#4100: 0.054976493948822265\n",
      "Cost at epoch#4200: 0.05476237883213468\n",
      "Cost at epoch#4300: 0.054557874951638094\n",
      "Cost at epoch#4400: 0.05436227495726613\n",
      "Cost at epoch#4500: 0.054174896780065686\n",
      "Cost at epoch#4600: 0.05399507209030688\n",
      "Cost at epoch#4700: 0.05382213326340516\n",
      "Cost at epoch#4800: 0.0536553981990101\n",
      "Cost at epoch#4900: 0.053494152274254206\n"
     ]
    }
   ],
   "source": [
    "costs = [] # initially empty list, this will store all the costs after a certian number of epochs\n",
    "\n",
    "# Start training\n",
    "for epoch in range(number_of_epochs):\n",
    "    \n",
    "    # ------------------------- forward-prop -------------------------\n",
    "    Z1.forward(X_train)\n",
    "    A1.forward(Z1.Z)\n",
    "    \n",
    "    Z2.forward(A1.A)\n",
    "    A2.forward(Z2.Z)\n",
    "    \n",
    "    # ---------------------- Compute Cost ----------------------------\n",
    "    cost, dZ2 = compute_stable_bce_cost(Y=Y_train, Z=Z2.Z)\n",
    "    \n",
    "    # print and store Costs every 100 iterations and of the last iteration.\n",
    "    if (epoch % 100) == 0:\n",
    "        print(\"Cost at epoch#{}: {}\".format(epoch, cost))\n",
    "        costs.append(cost)\n",
    "    \n",
    "    # ------------------------- back-prop ----------------------------\n",
    "    \n",
    "    Z2.backward(dZ2)\n",
    "    \n",
    "    A1.backward(Z2.dA_prev)\n",
    "    Z1.backward(A1.dZ)\n",
    "    \n",
    "    # ----------------------- Update weights and bias ----------------\n",
    "    Z2.update_params(learning_rate=learning_rate)\n",
    "    Z1.update_params(learning_rate=learning_rate)"
   ]
  },
  {
   "cell_type": "markdown",
   "metadata": {},
   "source": [
    "Now let's see how well the neural net peforms on the training data after the training as finished\n",
    "\n",
    "`predict` helper functionin the cell below returns three things:\n",
    "\n",
    "* `p`: predicted labels (output 1 if predictded output is greater than classification threshold `thresh`)\n",
    "* `probas`: raw probabilities (how sure the neural net thinks the output is 1, this is just `P_hat`)\n",
    "* `accuracy`: the number of correct predictions from total predictions\n",
    "\n"
   ]
  },
  {
   "cell_type": "code",
   "execution_count": 21,
   "metadata": {
    "scrolled": false
   },
   "outputs": [
    {
     "name": "stdout",
     "output_type": "stream",
     "text": [
      "The predicted outputs of first 5 examples: \n",
      "[[ 0.  0.  1.  0.  0.]]\n",
      "The predicted prbabilities of first 5 examples:\n",
      " [[ 0.001  0.002  0.981  0.001  0.407]]\n",
      "\n",
      "The accuracy of the model is: 98.66666666666666%\n"
     ]
    }
   ],
   "source": [
    "classifcation_thresh = 0.5\n",
    "\n",
    "\n",
    "predicted_outputs, p_hat, accuracy = predict(X=X_train, Y=Y_train, \n",
    "                                             Zs=[Z1, Z2], As=[A1, A2], thresh=classifcation_thresh)\n",
    "\n",
    "print(\"The predicted outputs of first 5 examples: \\n{}\".format(predicted_outputs[:,:5]))\n",
    "print(\"The predicted prbabilities of first 5 examples:\\n {}\".format(np.round(p_hat[:, :5], decimals=3)) )\n",
    "print(\"\\nThe accuracy of the model is: {}%\".format(accuracy))"
   ]
  },
  {
   "cell_type": "markdown",
   "metadata": {},
   "source": [
    "#### The Learning Curve"
   ]
  },
  {
   "cell_type": "code",
   "execution_count": 22,
   "metadata": {
    "scrolled": false
   },
   "outputs": [
    {
     "data": {
      "image/png": "[encoded data removed]",
      "text/plain": [
       "<Figure size 432x288 with 1 Axes>"
      ]
     },
     "metadata": {
      "needs_background": "light"
     },
     "output_type": "display_data"
    }
   ],
   "source": [
    "plot_learning_curve(costs, learning_rate, total_epochs=number_of_epochs)"
   ]
  },
  {
   "cell_type": "markdown",
   "metadata": {},
   "source": [
    "## Bounus \n",
    "\n",
    "Try different learning rates. See the effect on learning curve. \n",
    "\n",
    "_(Hint: if the learning curve is not smooth and very erratic then Gradient Descent is bouncing around the minimum point, all because the learnig rate is too high.)_"
   ]
  }
 ],
 "metadata": {
  "kernelspec": {
   "display_name": "Python 3",
   "language": "python",
   "name": "python3"
  },
  "language_info": {
   "codemirror_mode": {
    "name": "ipython",
    "version": 3
   },
   "file_extension": ".py",
   "mimetype": "text/x-python",
   "name": "python",
   "nbconvert_exporter": "python",
   "pygments_lexer": "ipython3",
   "version": "3.6.7"
  }
 },
 "nbformat": 4,
 "nbformat_minor": 2
}

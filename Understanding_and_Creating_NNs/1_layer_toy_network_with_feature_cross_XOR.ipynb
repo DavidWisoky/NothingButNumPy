{
 "cells": [
  {
   "cell_type": "markdown",
   "metadata": {},
   "source": [
    "# Nothing But NumPy: A 1-layer neural network with feature crosses\n",
    "\n",
    "Part of the blog [\"Nothing but NumPy: Understanding &amp; Creating neural networks with computational graphs from scratch\"](https://medium.com/@rafayak/nothing-but-numpy-understanding-creating-neural-networks-with-computational-graphs-from-scratch-6299901091b0)- by [Rafay Khan](https://twitter.com/RafayAK)\n",
    "\n",
    "\n",
    "In this notebook we'll create a 1-layer nueral network (i.e. just an output layer) and train it on the XOR data.\n",
    "\n",
    "\n",
    "First, let's import NumPy, our layers and helper functions.\n",
    "\n",
    "_Feel free to look into the helper functions in the `utils` directory_   "
   ]
  },
  {
   "cell_type": "code",
   "execution_count": 1,
   "metadata": {},
   "outputs": [],
   "source": [
    "import numpy as np\n",
    "from util.utilities import *\n",
    "from Layers.LinearLayer import LinearLayer\n",
    "from Layers.ActivationLayer import SigmoidLayer\n",
    "# to show all the generated plots inline in the notebook\n",
    "%matplotlib inline "
   ]
  },
  {
   "cell_type": "markdown",
   "metadata": {},
   "source": [
    "#### The XOR data:\n",
    "\n",
    "![XOR_data_and_plot](architecture_imgs/XOR_data_n_plot.png)"
   ]
  },
  {
   "cell_type": "code",
   "execution_count": 2,
   "metadata": {},
   "outputs": [],
   "source": [
    "# This is our XOR gate data \n",
    "\n",
    "X = np.array([\n",
    "    [0, 0],\n",
    "    [0, 1],\n",
    "    [1, 0],\n",
    "    [1, 1]\n",
    "])\n",
    "\n",
    "\n",
    "Y = np.array([\n",
    "    [0],\n",
    "    [1],\n",
    "    [1],\n",
    "    [0]\n",
    "])"
   ]
  },
  {
   "cell_type": "markdown",
   "metadata": {},
   "source": [
    "Let's set up training data with a feature cross, $x_1*x_2$ ."
   ]
  },
  {
   "cell_type": "code",
   "execution_count": 3,
   "metadata": {},
   "outputs": [],
   "source": [
    "X_train = X\n",
    "\n",
    "# add feature cross between 1st and 2nd feature\n",
    "X_train = np.c_[X_train, X[:, 0]* X[:, 1]]  # \"np.c_\" concatenates data column-wise\n",
    "\n",
    "# now we can set up data in the shape required by the neural net layers\n",
    "X_train = X_train.T\n",
    "Y_train = Y.T"
   ]
  },
  {
   "cell_type": "markdown",
   "metadata": {},
   "source": [
    "Let's see if the data looks as desired"
   ]
  },
  {
   "cell_type": "code",
   "execution_count": 4,
   "metadata": {},
   "outputs": [
    {
     "data": {
      "text/plain": [
       "array([[0, 0, 1, 1],\n",
       "       [0, 1, 0, 1],\n",
       "       [0, 0, 0, 1]])"
      ]
     },
     "execution_count": 4,
     "metadata": {},
     "output_type": "execute_result"
    }
   ],
   "source": [
    "X_train"
   ]
  },
  {
   "cell_type": "code",
   "execution_count": 5,
   "metadata": {},
   "outputs": [
    {
     "data": {
      "text/plain": [
       "array([[0, 1, 1, 0]])"
      ]
     },
     "execution_count": 5,
     "metadata": {},
     "output_type": "execute_result"
    }
   ],
   "source": [
    "Y_train"
   ]
  },
  {
   "cell_type": "markdown",
   "metadata": {},
   "source": [
    "Recall, our neural net architecture with a feature cross from the blog, we'll recreate it here.\n",
    "\n",
    "\n",
    "![A one layer neural network with a feature cross](architecture_imgs/1_layer_FeatEng_NN.png)"
   ]
  },
  {
   "cell_type": "code",
   "execution_count": 6,
   "metadata": {},
   "outputs": [],
   "source": [
    "# define training constants\n",
    "learning_rate = 1\n",
    "number_of_epochs = 5000\n",
    "\n",
    "np.random.seed(48) # set seed value so that the results are reproduceable\n",
    "\n",
    "# Our network architecture has the shape: \n",
    "#                       (input)--> [Linear->Sigmoid] -->(output)  \n",
    "\n",
    "\n",
    "#------ LAYER-1 ----- define output layer that takes in training data \n",
    "Z1 = LinearLayer(input_shape=X_train.shape, n_out=1, ini_type='plain')\n",
    "A1 = SigmoidLayer(Z1.Z.shape)"
   ]
  },
  {
   "cell_type": "markdown",
   "metadata": {},
   "source": [
    "Now we can start the training loop."
   ]
  },
  {
   "cell_type": "code",
   "execution_count": 7,
   "metadata": {},
   "outputs": [
    {
     "name": "stdout",
     "output_type": "stream",
     "text": [
      "Cost at epoch#0: 0.12480797532784463\n",
      "Cost at epoch#100: 0.07434908897603773\n",
      "Cost at epoch#200: 0.05055711748473411\n",
      "Cost at epoch#300: 0.03643262431082579\n",
      "Cost at epoch#400: 0.027671514044586787\n",
      "Cost at epoch#500: 0.021929157273732916\n",
      "Cost at epoch#600: 0.017964599404664255\n",
      "Cost at epoch#700: 0.015104029541185851\n",
      "Cost at epoch#800: 0.012963350559412182\n",
      "Cost at epoch#900: 0.011312406038651465\n",
      "Cost at epoch#1000: 0.010006868961998287\n",
      "Cost at epoch#1100: 0.008952547095911286\n",
      "Cost at epoch#1200: 0.008085796422895312\n",
      "Cost at epoch#1300: 0.007362297621780561\n",
      "Cost at epoch#1400: 0.006750366883673308\n",
      "Cost at epoch#1500: 0.006226826400730868\n",
      "Cost at epoch#1600: 0.00577437381840124\n",
      "Cost at epoch#1700: 0.005379859016917353\n",
      "Cost at epoch#1800: 0.005033126690065441\n",
      "Cost at epoch#1900: 0.004726221322649468\n",
      "Cost at epoch#2000: 0.004452829962544101\n",
      "Cost at epoch#2100: 0.004207884472650881\n",
      "Cost at epoch#2200: 0.00398727288191886\n",
      "Cost at epoch#2300: 0.0037876267299368407\n",
      "Cost at epoch#2400: 0.003606162225584915\n",
      "Cost at epoch#2500: 0.003440560093992382\n",
      "Cost at epoch#2600: 0.00328887362675559\n",
      "Cost at epoch#2700: 0.0031494575571173952\n",
      "Cost at epoch#2800: 0.0030209124953439978\n",
      "Cost at epoch#2900: 0.0029020411189470416\n",
      "Cost at epoch#3000: 0.002791813334157275\n",
      "Cost at epoch#3100: 0.002689338349662115\n",
      "Cost at epoch#3200: 0.002593842123691666\n",
      "Cost at epoch#3300: 0.0025046490230145905\n",
      "Cost at epoch#3400: 0.0024211668092743743\n",
      "Cost at epoch#3500: 0.0023428742731807202\n",
      "Cost at epoch#3600: 0.002269310990394297\n",
      "Cost at epoch#3700: 0.0022000687885723466\n",
      "Cost at epoch#3800: 0.0021347846029636385\n",
      "Cost at epoch#3900: 0.002073134465315018\n",
      "Cost at epoch#4000: 0.0020148284228601867\n",
      "Cost at epoch#4100: 0.001959606224588787\n",
      "Cost at epoch#4200: 0.0019072336436269954\n",
      "Cost at epoch#4300: 0.0018574993294689455\n",
      "Cost at epoch#4400: 0.0018102121035269325\n",
      "Cost at epoch#4500: 0.0017651986271851698\n",
      "Cost at epoch#4600: 0.0017223013841288599\n",
      "Cost at epoch#4700: 0.001681376928854253\n",
      "Cost at epoch#4800: 0.0016422943614638893\n",
      "Cost at epoch#4900: 0.0016049339955154555\n"
     ]
    }
   ],
   "source": [
    "costs = [] # initially empty list, this will store all the costs after a certian number of epochs\n",
    "\n",
    "# Start training\n",
    "for epoch in range(number_of_epochs):\n",
    "    \n",
    "    # ------------------------- forward-prop -------------------------\n",
    "    Z1.forward(X_train)\n",
    "    A1.forward(Z1.Z)\n",
    "    \n",
    "    # ---------------------- Compute Cost ----------------------------\n",
    "    cost, dA1 = compute_cost(Y=Y_train, Y_hat=A1.A)\n",
    "    \n",
    "    # print and store Costs every 100 iterations.\n",
    "    if (epoch % 100) == 0:\n",
    "        print(\"Cost at epoch#{}: {}\".format(epoch, cost))\n",
    "        costs.append(cost)\n",
    "    \n",
    "    # ------------------------- back-prop ---------------------------- \n",
    "    A1.backward(dA1)\n",
    "    Z1.backward(A1.dZ)\n",
    "    \n",
    "    # ----------------------- Update weights and bias ----------------\n",
    "    Z1.update_params(learning_rate=learning_rate)"
   ]
  },
  {
   "cell_type": "markdown",
   "metadata": {},
   "source": [
    "`predict` helper function returns three things:\n",
    "- `p`: predicted labels (output 1 if predictded output is greater than 0.5) \n",
    "- `probas`: raw probabilities (how sure the neural net thinks the output is 1, this is just Y_hat) \n",
    "- `accuracy`: the number of correct predictions from total predictions\n",
    "\n",
    "In the cell below we are not storing `probas`( pythonic way is to use `_` it its place)  "
   ]
  },
  {
   "cell_type": "code",
   "execution_count": 8,
   "metadata": {},
   "outputs": [
    {
     "name": "stdout",
     "output_type": "stream",
     "text": [
      "The predicted outputs:\n",
      " [[ 0.  1.  1.  0.]]\n",
      "The accuracy of the model is: 100.0%\n"
     ]
    }
   ],
   "source": [
    "# see the ouptput predictions\n",
    "predicted_outputs, _, accuracy = predict(X=X_train, Y=Y_train, Zs=[Z1], As=[A1])\n",
    "\n",
    "print(\"The predicted outputs:\\n {}\".format(predicted_outputs))\n",
    "print(\"The accuracy of the model is: {}%\".format(accuracy))"
   ]
  },
  {
   "cell_type": "markdown",
   "metadata": {},
   "source": [
    "#### The learning curve"
   ]
  },
  {
   "cell_type": "code",
   "execution_count": 9,
   "metadata": {},
   "outputs": [
    {
     "data": {
      "image/png": "[encoded data removed]",
      "text/plain": [
       "<Figure size 432x288 with 1 Axes>"
      ]
     },
     "metadata": {
      "needs_background": "light"
     },
     "output_type": "display_data"
    }
   ],
   "source": [
    "plot_learning_curve(costs=costs, learning_rate=learning_rate, total_epochs=number_of_epochs)"
   ]
  },
  {
   "cell_type": "markdown",
   "metadata": {},
   "source": [
    "#### The decision boundary"
   ]
  },
  {
   "cell_type": "code",
   "execution_count": 10,
   "metadata": {},
   "outputs": [
    {
     "data": {
      "image/png": "[encoded data removed]",
      "text/plain": [
       "<Figure size 432x288 with 1 Axes>"
      ]
     },
     "metadata": {},
     "output_type": "display_data"
    }
   ],
   "source": [
    "plot_decision_boundary(lambda x:predict_dec(Zs=[Z1], As=[A1], X=x.T), X_train.T, Y_train.T, feat_crosses=[(0,1)])"
   ]
  },
  {
   "cell_type": "markdown",
   "metadata": {},
   "source": [
    "#### The shaded decision boundary"
   ]
  },
  {
   "cell_type": "code",
   "execution_count": 11,
   "metadata": {},
   "outputs": [
    {
     "data": {
      "image/png": "[encoded data removed]",
      "text/plain": [
       "<Figure size 432x288 with 1 Axes>"
      ]
     },
     "metadata": {},
     "output_type": "display_data"
    }
   ],
   "source": [
    "plot_decision_boundary_shaded(lambda x:predict_dec(Zs=[Z1], As=[A1], X=x.T), X_train.T, Y_train.T, feat_crosses=[(0,1)])"
   ]
  }
 ],
 "metadata": {
  "kernelspec": {
   "display_name": "Python 3",
   "language": "python",
   "name": "python3"
  },
  "language_info": {
   "codemirror_mode": {
    "name": "ipython",
    "version": 3
   },
   "file_extension": ".py",
   "mimetype": "text/x-python",
   "name": "python",
   "nbconvert_exporter": "python",
   "pygments_lexer": "ipython3",
   "version": "3.6.7"
  }
 },
 "nbformat": 4,
 "nbformat_minor": 2
}

{
 "cells": [
  {
   "cell_type": "markdown",
   "metadata": {},
   "source": [
    "# Nothing But NumPy: A 2-layer neural network\n",
    "Part of the blog [\"Nothing but NumPy: Understanding &amp; Creating neural networks with computational graphs from scratch\"](https://medium.com/@rafayak/nothing-but-numpy-understanding-creating-neural-networks-with-computational-graphs-from-scratch-6299901091b0)- by [Rafay Khan](https://twitter.com/RafayAK)\n",
    "\n",
    "\n",
    "In this notebook we'll create a 2-layer nueral network (i.e. a single hidden and output layer) and train it on the XOR data.\n",
    "\n",
    "\n",
    "First, let's import NumPy, our layers and helper functions.\n",
    "\n",
    "_Feel free to look into the helper functions in the `utils` directory_   "
   ]
  },
  {
   "cell_type": "code",
   "execution_count": 1,
   "metadata": {},
   "outputs": [],
   "source": [
    "import numpy as np\n",
    "from util.utilities import *\n",
    "from Layers.LinearLayer import LinearLayer\n",
    "from Layers.ActivationLayer import SigmoidLayer\n",
    "# to show all the generated plots inline in the notebook\n",
    "%matplotlib inline "
   ]
  },
  {
   "cell_type": "markdown",
   "metadata": {},
   "source": [
    "#### The XOR data:\n",
    "\n",
    "![XOR_data_and_plot](architecture_imgs/XOR_data_n_plot.png)"
   ]
  },
  {
   "cell_type": "code",
   "execution_count": 2,
   "metadata": {},
   "outputs": [],
   "source": [
    "# This is our XOR gate data \n",
    "\n",
    "X = np.array([\n",
    "    [0, 0],\n",
    "    [0, 1],\n",
    "    [1, 0],\n",
    "    [1, 1]\n",
    "])\n",
    "\n",
    "Y = np.array([\n",
    "    [0],\n",
    "    [1],\n",
    "    [1],\n",
    "    [0]\n",
    "])"
   ]
  },
  {
   "cell_type": "markdown",
   "metadata": {},
   "source": [
    "Let's set up training data. Recall, data needs to be in $(features \\times \\text{number_of_examples})$ shape. So, we need to transpose `X` and `Y`."
   ]
  },
  {
   "cell_type": "code",
   "execution_count": 3,
   "metadata": {},
   "outputs": [],
   "source": [
    "X_train = X.T\n",
    "Y_train = Y.T"
   ]
  },
  {
   "cell_type": "markdown",
   "metadata": {},
   "source": [
    "Recall, our neural net architecture with a single hidden layer with 3 neurons from the blog. We'll recreate it here.\n",
    "\n",
    "\n",
    "![A 2-layer Neural Network](architecture_imgs/2_layer_NN.png)"
   ]
  },
  {
   "cell_type": "code",
   "execution_count": 4,
   "metadata": {},
   "outputs": [],
   "source": [
    "# define training constants\n",
    "learning_rate = 1\n",
    "number_of_epochs = 5000\n",
    "\n",
    "np.random.seed(48) # set seed value so that the results are reproduceable\n",
    "                  # (weights will now be initailzaed to the same pseudo-random numbers, each time)\n",
    "\n",
    "\n",
    "# Our network architecture has the shape: \n",
    "#                   (input)--> [Linear->Sigmoid] -> [Linear->Sigmoid] -->(output)  \n",
    "\n",
    "#------ LAYER-1 ----- define hidden layer that takes in training data \n",
    "Z1 = LinearLayer(input_shape=X_train.shape, n_out=3, ini_type='xavier')\n",
    "A1 = SigmoidLayer(Z1.Z.shape)\n",
    "\n",
    "#------ LAYER-2 ----- define output layer that take is values from hidden layer\n",
    "Z2= LinearLayer(input_shape=A1.A.shape, n_out=1, ini_type='xavier')\n",
    "A2= SigmoidLayer(Z2.Z.shape)\n",
    "\n",
    "# see what random weights and bias were selected and their shape \n",
    "# print(Z2.params)\n",
    "# print(Z2.params)"
   ]
  },
  {
   "cell_type": "markdown",
   "metadata": {},
   "source": [
    "Now we can start the training loop."
   ]
  },
  {
   "cell_type": "code",
   "execution_count": 5,
   "metadata": {},
   "outputs": [
    {
     "name": "stdout",
     "output_type": "stream",
     "text": [
      "Cost at epoch#0: 0.12926510193084198\n",
      "Cost at epoch#100: 0.12345825692804888\n",
      "Cost at epoch#200: 0.12066966113381938\n",
      "Cost at epoch#300: 0.1166803602125806\n",
      "Cost at epoch#400: 0.11130833351272906\n",
      "Cost at epoch#500: 0.10488049601356228\n",
      "Cost at epoch#600: 0.09838889588798089\n",
      "Cost at epoch#700: 0.09243739122926581\n",
      "Cost at epoch#800: 0.08674109898244502\n",
      "Cost at epoch#900: 0.0803633800361436\n",
      "Cost at epoch#1000: 0.07188849409230211\n",
      "Cost at epoch#1100: 0.060266822876482364\n",
      "Cost at epoch#1200: 0.0466727790621477\n",
      "Cost at epoch#1300: 0.03403180316972872\n",
      "Cost at epoch#1400: 0.024420892209798033\n",
      "Cost at epoch#1500: 0.017883350379483128\n",
      "Cost at epoch#1600: 0.013556791347344188\n",
      "Cost at epoch#1700: 0.010645079603116682\n",
      "Cost at epoch#1800: 0.008621081313392127\n",
      "Cost at epoch#1900: 0.007164447639006829\n",
      "Cost at epoch#2000: 0.006081828121979105\n",
      "Cost at epoch#2100: 0.005254042338109358\n",
      "Cost at epoch#2200: 0.00460539786880718\n",
      "Cost at epoch#2300: 0.0040862927529649404\n",
      "Cost at epoch#2400: 0.0036632376282681616\n",
      "Cost at epoch#2500: 0.0033129939134783604\n",
      "Cost at epoch#2600: 0.003019032402871896\n",
      "Cost at epoch#2700: 0.0027693324145448726\n",
      "Cost at epoch#2800: 0.0025549765834592575\n",
      "Cost at epoch#2900: 0.0023692307657675413\n",
      "Cost at epoch#3000: 0.0022069274299240027\n",
      "Cost at epoch#3100: 0.0020640435439163523\n",
      "Cost at epoch#3200: 0.001937405929254176\n",
      "Cost at epoch#3300: 0.0018244818957577227\n",
      "Cost at epoch#3400: 0.0017232280289235053\n",
      "Cost at epoch#3500: 0.001631979332412736\n",
      "Cost at epoch#3600: 0.0015493668312470737\n",
      "Cost at epoch#3700: 0.0014742555487292151\n",
      "Cost at epoch#3800: 0.0014056972705266603\n",
      "Cost at epoch#3900: 0.0013428941792192055\n",
      "Cost at epoch#4000: 0.0012851705753654423\n",
      "Cost at epoch#4100: 0.0012319506808326419\n",
      "Cost at epoch#4200: 0.0011827410641545044\n",
      "Cost at epoch#4300: 0.001137116612125121\n",
      "Cost at epoch#4400: 0.0010947092467665257\n",
      "Cost at epoch#4500: 0.0010551987856258558\n",
      "Cost at epoch#4600: 0.001018305488651183\n",
      "Cost at epoch#4700: 0.000983783942124411\n",
      "Cost at epoch#4800: 0.0009514180100050973\n",
      "Cost at epoch#4900: 0.0009210166430616655\n"
     ]
    }
   ],
   "source": [
    "costs = [] # initially empty list, this will store all the costs after a certian number of epochs\n",
    "\n",
    "# Start training\n",
    "for epoch in range(number_of_epochs):\n",
    "    \n",
    "    # ------------------------- forward-prop -------------------------\n",
    "    Z1.forward(X_train)\n",
    "    A1.forward(Z1.Z)\n",
    "    \n",
    "    Z2.forward(A1.A)\n",
    "    A2.forward(Z2.Z)\n",
    "    \n",
    "    # ---------------------- Compute Cost ----------------------------\n",
    "    cost, dA2 = compute_cost(Y=Y_train, Y_hat=A2.A)\n",
    "    \n",
    "    # print and store Costs every 100 iterations.\n",
    "    if (epoch % 100) == 0:\n",
    "        print(\"Cost at epoch#{}: {}\".format(epoch, cost))\n",
    "        costs.append(cost)\n",
    "    \n",
    "    # ------------------------- back-prop ----------------------------\n",
    "    A2.backward(dA2)\n",
    "    Z2.backward(A2.dZ)\n",
    "    \n",
    "    A1.backward(Z2.dA_prev)\n",
    "    Z1.backward(A1.dZ)\n",
    "    \n",
    "    # ----------------------- Update weights and bias ----------------\n",
    "    Z2.update_params(learning_rate=learning_rate)\n",
    "    Z1.update_params(learning_rate=learning_rate)\n",
    "\n",
    "# See what the final weights and bias are training    \n",
    "# print(Z2.params)\n",
    "# print(Z2.params)"
   ]
  },
  {
   "cell_type": "markdown",
   "metadata": {},
   "source": [
    "`predict` helper functionin the cell below returns three things:\n",
    "- `p`: predicted labels (output 1 if predictded output is greater than 0.5) \n",
    "- `probas`: raw probabilities (how sure the neural net thinks the output is 1, this is just Y_hat) \n",
    "- `accuracy`: the number of correct predictions from total predictions\n",
    "\n",
    "In the cell below we are not storing `probas`( pythonic way is to use `_` it its place)  "
   ]
  },
  {
   "cell_type": "code",
   "execution_count": 6,
   "metadata": {},
   "outputs": [
    {
     "name": "stdout",
     "output_type": "stream",
     "text": [
      "The predicted outputs:\n",
      " [[ 0.  1.  1.  0.]]\n",
      "The accuracy of the model is: 100.0%\n"
     ]
    }
   ],
   "source": [
    "# see the ouptput predictions\n",
    "predicted_outputs, _, accuracy = predict(X=X_train, Y=Y_train, Zs=[Z1, Z2], As=[A1, A2])\n",
    "\n",
    "print(\"The predicted outputs:\\n {}\".format(predicted_outputs))\n",
    "print(\"The accuracy of the model is: {}%\".format(accuracy))"
   ]
  },
  {
   "cell_type": "markdown",
   "metadata": {},
   "source": [
    "#### The learning curve"
   ]
  },
  {
   "cell_type": "code",
   "execution_count": 7,
   "metadata": {},
   "outputs": [
    {
     "data": {
      "image/png": "[encoded data removed]",
      "text/plain": [
       "<Figure size 432x288 with 1 Axes>"
      ]
     },
     "metadata": {
      "needs_background": "light"
     },
     "output_type": "display_data"
    }
   ],
   "source": [
    "plot_learning_curve(costs=costs, learning_rate=learning_rate, total_epochs=number_of_epochs)"
   ]
  },
  {
   "cell_type": "markdown",
   "metadata": {},
   "source": [
    "#### The decision boundary"
   ]
  },
  {
   "cell_type": "code",
   "execution_count": 8,
   "metadata": {},
   "outputs": [
    {
     "data": {
      "image/png": "[encoded data removed]",
      "text/plain": [
       "<Figure size 432x288 with 1 Axes>"
      ]
     },
     "metadata": {},
     "output_type": "display_data"
    }
   ],
   "source": [
    "plot_decision_boundary(lambda x:predict_dec(Zs=[Z1, Z2], As=[A1, A2], X=x.T), X_train.T, Y_train.T)"
   ]
  },
  {
   "cell_type": "markdown",
   "metadata": {},
   "source": [
    "#### The shaded decision boundary"
   ]
  },
  {
   "cell_type": "code",
   "execution_count": 9,
   "metadata": {},
   "outputs": [
    {
     "data": {
      "image/png": "[encoded data removed]",
      "text/plain": [
       "<Figure size 432x288 with 1 Axes>"
      ]
     },
     "metadata": {},
     "output_type": "display_data"
    }
   ],
   "source": [
    "plot_decision_boundary_shaded(lambda x:predict_dec(Zs=[Z1, Z2], As=[A1, A2], X=x.T), X_train.T, Y_train.T)"
   ]
  },
  {
   "cell_type": "markdown",
   "metadata": {},
   "source": [
    "## Bonus \n",
    "\n",
    "Try to reinitialize the weights to `ini_type=plain` and see what happens."
   ]
  }
 ],
 "metadata": {
  "kernelspec": {
   "display_name": "Python 3",
   "language": "python",
   "name": "python3"
  },
  "language_info": {
   "codemirror_mode": {
    "name": "ipython",
    "version": 3
   },
   "file_extension": ".py",
   "mimetype": "text/x-python",
   "name": "python",
   "nbconvert_exporter": "python",
   "pygments_lexer": "ipython3",
   "version": "3.6.7"
  }
 },
 "nbformat": 4,
 "nbformat_minor": 2
}

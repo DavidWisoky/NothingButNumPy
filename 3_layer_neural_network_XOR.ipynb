{
 "cells": [
  {
   "cell_type": "markdown",
   "metadata": {},
   "source": [
    "# Nothing But NumPy: A 3-layer neural network\n",
    "\n",
    "Part of the blog [\"Nothing but NumPy: Understanding &amp; Creating neural networks with computational graphs from scratch\"](https://medium.com/@rafayak/nothing-but-numpy-understanding-creating-neural-networks-with-computational-graphs-from-scratch-6299901091b0)- by [Rafay Khan](https://twitter.com/RafayAK)\n",
    "\n",
    "In this notebook we'll see ow to create a 3-layer nueral network (i.e. two hidden and one output layer) and training it on the XOR data.\n",
    "\n",
    "\n",
    "First, let's import NumPy, our layers and helper functions.\n",
    "\n",
    "_Feel free to look into the helper functions in the `utils` directory_   "
   ]
  },
  {
   "cell_type": "code",
   "execution_count": 1,
   "metadata": {},
   "outputs": [],
   "source": [
    "import numpy as np\n",
    "from util.utilities import *\n",
    "from Layers.LinearLayer import LinearLayer\n",
    "from Layers.ActivationLayer import SigmoidLayer\n",
    "# to show all the generated plots inline in the notebook\n",
    "%matplotlib inline "
   ]
  },
  {
   "cell_type": "markdown",
   "metadata": {},
   "source": [
    "#### The XOR data:\n",
    "\n",
    "\n",
    "![XOR_data_and_plot](architecture_imgs/XOR_data_n_plot.png)"
   ]
  },
  {
   "cell_type": "code",
   "execution_count": 2,
   "metadata": {},
   "outputs": [],
   "source": [
    "# This is our XOR gate data \n",
    "\n",
    "X = np.array([\n",
    "    [0, 0],\n",
    "    [0, 1],\n",
    "    [1, 0],\n",
    "    [1, 1]\n",
    "])\n",
    "\n",
    "Y = np.array([\n",
    "    [0],\n",
    "    [1],\n",
    "    [1],\n",
    "    [0]\n",
    "])"
   ]
  },
  {
   "cell_type": "code",
   "execution_count": 3,
   "metadata": {},
   "outputs": [],
   "source": [
    "X_train = X.T\n",
    "Y_train = Y.T"
   ]
  },
  {
   "cell_type": "markdown",
   "metadata": {},
   "source": [
    "The 3 layer neural network architecture looks as follows:\n",
    "\n",
    "\n",
    "![A 3 layer neural network](architecture_imgs/3_layer_NN.png)"
   ]
  },
  {
   "cell_type": "code",
   "execution_count": 4,
   "metadata": {},
   "outputs": [],
   "source": [
    "# define training constants\n",
    "learning_rate = 1\n",
    "number_of_epochs = 5000\n",
    "\n",
    "np.random.seed(48) # set seed value so that the results are reproduceable\n",
    "\n",
    "\n",
    "# Our network architecture has the shape: \n",
    "#               (input)--> [Linear->Sigmoid] -> [Linear->Sigmoid]->[Linear->Sigmoid] -->(output)  \n",
    "\n",
    "#------ LAYER-1 ----- define hidden layer that takes in training data \n",
    "Z1 = LinearLayer(input_shape=X_train.shape, n_out=5, ini_type='xavier')\n",
    "A1 = SigmoidLayer(Z1.Z.shape)\n",
    "\n",
    "#------ LAYER-2 ----- define output layer that take is values from hidden layer\n",
    "Z2= LinearLayer(input_shape=A1.A.shape, n_out=3, ini_type='xavier')\n",
    "A2= SigmoidLayer(Z2.Z.shape)\n",
    "\n",
    "\n",
    "#------ LAYER-3 ----- define output layer that take is values from 2nd hidden layer\n",
    "Z3= LinearLayer(input_shape=A2.A.shape, n_out=1, ini_type='xavier')\n",
    "A3= SigmoidLayer(Z3.Z.shape)\n",
    "\n",
    "# see what random weights and bias were selected and their shape \n",
    "# print(Z1.params)\n",
    "# print(Z2.params)\n",
    "# print(Z3.params)"
   ]
  },
  {
   "cell_type": "markdown",
   "metadata": {},
   "source": [
    "Now we can start the training loop."
   ]
  },
  {
   "cell_type": "code",
   "execution_count": 5,
   "metadata": {},
   "outputs": [
    {
     "name": "stdout",
     "output_type": "stream",
     "text": [
      "Cost at epoch#0: 0.12580048583996017\n",
      "Cost at epoch#100: 0.12488800620460391\n",
      "Cost at epoch#200: 0.1248544745100407\n",
      "Cost at epoch#300: 0.12481135430735724\n",
      "Cost at epoch#400: 0.12475501281371584\n",
      "Cost at epoch#500: 0.12468009633443186\n",
      "Cost at epoch#600: 0.12457849324582021\n",
      "Cost at epoch#700: 0.12443755028774649\n",
      "Cost at epoch#800: 0.1242369265778672\n",
      "Cost at epoch#900: 0.12394291469995844\n",
      "Cost at epoch#1000: 0.12349798488056588\n",
      "Cost at epoch#1100: 0.1228012603028108\n",
      "Cost at epoch#1200: 0.12167195753653542\n",
      "Cost at epoch#1300: 0.11978312534788918\n",
      "Cost at epoch#1400: 0.1165609953789445\n",
      "Cost at epoch#1500: 0.11114475840867588\n",
      "Cost at epoch#1600: 0.10280346921569668\n",
      "Cost at epoch#1700: 0.09162334961696444\n",
      "Cost at epoch#1800: 0.07586830923185872\n",
      "Cost at epoch#1900: 0.04926397861977669\n",
      "Cost at epoch#2000: 0.023658380552436506\n",
      "Cost at epoch#2100: 0.011797687706814072\n",
      "Cost at epoch#2200: 0.006918317173057669\n",
      "Cost at epoch#2300: 0.004605942643578608\n",
      "Cost at epoch#2400: 0.0033424679670456398\n",
      "Cost at epoch#2500: 0.002573629512576004\n",
      "Cost at epoch#2600: 0.002067199765072307\n",
      "Cost at epoch#2700: 0.0017132187740192127\n",
      "Cost at epoch#2800: 0.0014542544172051752\n",
      "Cost at epoch#2900: 0.0012578806759425266\n",
      "Cost at epoch#3000: 0.0011046096592161755\n",
      "Cost at epoch#3100: 0.000982117814959671\n",
      "Cost at epoch#3200: 0.0008822771448461744\n",
      "Cost at epoch#3300: 0.0007995342389536301\n",
      "Cost at epoch#3400: 0.0007299792994708615\n",
      "Cost at epoch#3500: 0.0006707879048694253\n",
      "Cost at epoch#3600: 0.000619873631648771\n",
      "Cost at epoch#3700: 0.0005756648105889975\n",
      "Cost at epoch#3800: 0.0005369569511452655\n",
      "Cost at epoch#3900: 0.0005028127248221174\n",
      "Cost at epoch#4000: 0.00047249266248723513\n",
      "Cost at epoch#4100: 0.00044540617279083554\n",
      "Cost at epoch#4200: 0.0004210763005753774\n",
      "Cost at epoch#4300: 0.0003991139591657726\n",
      "Cost at epoch#4400: 0.00037919881194499406\n",
      "Cost at epoch#4500: 0.0003610648967501852\n",
      "Cost at epoch#4600: 0.0003444896835554227\n",
      "Cost at epoch#4700: 0.00032928565137382447\n",
      "Cost at epoch#4800: 0.00031529373686577247\n",
      "Cost at epoch#4900: 0.00030237818967873963\n"
     ]
    }
   ],
   "source": [
    "costs = [] # initially empty list, this will store all the costs after a certian number of epochs\n",
    "\n",
    "# Start training\n",
    "for epoch in range(number_of_epochs):\n",
    "    \n",
    "    # ------------------------- forward-prop -------------------------\n",
    "    Z1.forward(X_train)\n",
    "    A1.forward(Z1.Z)\n",
    "    \n",
    "    Z2.forward(A1.A)\n",
    "    A2.forward(Z2.Z)\n",
    "    \n",
    "    Z3.forward(A2.A)\n",
    "    A3.forward(Z3.Z)\n",
    "    \n",
    "    # ---------------------- Compute Cost ----------------------------\n",
    "    cost, dA3 = compute_cost(Y=Y_train, Y_hat=A3.A)\n",
    "    \n",
    "    # print and store Costs every 100 iterations.\n",
    "    if (epoch % 100) == 0:\n",
    "        print(\"Cost at epoch#{}: {}\".format(epoch, cost))\n",
    "        costs.append(cost)\n",
    "    \n",
    "    # ------------------------- back-prop ----------------------------\n",
    "    A3.backward(dA3)\n",
    "    Z3.backward(A3.dZ)\n",
    "    \n",
    "    A2.backward(Z3.dA_prev)\n",
    "    Z2.backward(A2.dZ)\n",
    "    \n",
    "    A1.backward(Z2.dA_prev)\n",
    "    Z1.backward(A1.dZ)\n",
    "    \n",
    "    # ----------------------- Update weights and bias ----------------\n",
    "    Z3.update_params(learning_rate=learning_rate)\n",
    "    Z2.update_params(learning_rate=learning_rate)\n",
    "    Z1.update_params(learning_rate=learning_rate)\n",
    "\n",
    "# See what the final weights and bias are training \n",
    "# print(Z1.params)\n",
    "# print(Z2.params)\n",
    "# print(Z3.params)"
   ]
  },
  {
   "cell_type": "markdown",
   "metadata": {},
   "source": [
    "`predict` helper function returns three things:\n",
    "- `p`: predicted labels (output 1 if predictded output is greater than 0.5) \n",
    "- `probas`: raw probabilities (how sure the neural net thinks the output is 1, this is just Y_hat) \n",
    "- `accuracy`: the number of correct predictions from total predictions\n",
    "\n",
    "In the cell below we are not storing `probas`( pythonic way is to use `_` it its place)  "
   ]
  },
  {
   "cell_type": "code",
   "execution_count": 6,
   "metadata": {},
   "outputs": [
    {
     "name": "stdout",
     "output_type": "stream",
     "text": [
      "The predicted outputs:\n",
      " [[ 0.  1.  1.  0.]]\n",
      "The accuracy of the model is: 100.0%\n"
     ]
    }
   ],
   "source": [
    "# see the ouptput predictions\n",
    "predicted_outputs, _, accuracy = predict(X=X_train, Y=Y_train, Zs=[Z1, Z2, Z3], As=[A1, A2, A3])\n",
    "\n",
    "print(\"The predicted outputs:\\n {}\".format(predicted_outputs))\n",
    "print(\"The accuracy of the model is: {}%\".format(accuracy))"
   ]
  },
  {
   "cell_type": "markdown",
   "metadata": {},
   "source": [
    "#### The learning curve"
   ]
  },
  {
   "cell_type": "code",
   "execution_count": 7,
   "metadata": {},
   "outputs": [
    {
     "data": {
      "image/png": "[encoded data removed]",
      "text/plain": [
       "<Figure size 432x288 with 1 Axes>"
      ]
     },
     "metadata": {
      "needs_background": "light"
     },
     "output_type": "display_data"
    }
   ],
   "source": [
    "plot_learning_curve(costs=costs, learning_rate=learning_rate, total_epochs=number_of_epochs)"
   ]
  },
  {
   "cell_type": "markdown",
   "metadata": {},
   "source": [
    "#### The decision boundary\n",
    "\n",
    "With more hidden layers our deeper neural network is able to learn a much more complex decision boundary"
   ]
  },
  {
   "cell_type": "code",
   "execution_count": 8,
   "metadata": {},
   "outputs": [
    {
     "data": {
      "image/png": "[encoded data removed]",
      "text/plain": [
       "<Figure size 432x288 with 1 Axes>"
      ]
     },
     "metadata": {},
     "output_type": "display_data"
    }
   ],
   "source": [
    "plot_decision_boundary(lambda x:predict_dec(Zs=[Z1, Z2, Z3], As=[A1, A2, A3], X=x.T), X_train.T, Y_train.T)"
   ]
  },
  {
   "cell_type": "markdown",
   "metadata": {},
   "source": [
    "#### The shaded decision boundary"
   ]
  },
  {
   "cell_type": "code",
   "execution_count": 9,
   "metadata": {},
   "outputs": [
    {
     "data": {
      "image/png": "[encoded data removed]",
      "text/plain": [
       "<Figure size 432x288 with 1 Axes>"
      ]
     },
     "metadata": {},
     "output_type": "display_data"
    }
   ],
   "source": [
    "plot_decision_boundary_shaded(lambda x:predict_dec(Zs=[Z1, Z2, Z3], As=[A1, A2, A3], X=x.T), X_train.T, Y_train.T)"
   ]
  },
  {
   "cell_type": "markdown",
   "metadata": {},
   "source": [
    "## Bonus \n",
    "\n",
    "Try to reinitialize the weights to `ini_type=plain` and see what happens."
   ]
  }
 ],
 "metadata": {
  "kernelspec": {
   "display_name": "Python 3",
   "language": "python",
   "name": "python3"
  },
  "language_info": {
   "codemirror_mode": {
    "name": "ipython",
    "version": 3
   },
   "file_extension": ".py",
   "mimetype": "text/x-python",
   "name": "python",
   "nbconvert_exporter": "python",
   "pygments_lexer": "ipython3",
   "version": "3.6.7"
  }
 },
 "nbformat": 4,
 "nbformat_minor": 2
}

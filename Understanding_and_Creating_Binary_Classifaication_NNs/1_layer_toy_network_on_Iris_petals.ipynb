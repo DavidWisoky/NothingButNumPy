{
 "cells": [
  {
   "cell_type": "markdown",
   "metadata": {},
   "source": [
    "# Nothing But NumPy: A 1-layer Binary Classification Neural Network on Iris Flowers\n",
    "\n",
    "Part of the blog [\"Nothing but NumPy: Understanding & Creating Binary Classification Neural Networks with Computational Graphs from Scratch\"](https://medium.com/@rafayak/nothing-but-numpy-understanding-creating-binary-classification-neural-networks-with-e746423c8d5c)- by [Rafay Khan](https://twitter.com/RafayAK)\n",
    "\n",
    "In this notebook we'll create a 1-layer neural network (i.e. just a output layer) and train it on Iris dataset using  _only_ **petals** as features input features to classify **Iris-virginica vs. others**\n",
    "\n",
    "First, let's import NumPy, our layers, the Binary Cross-Entropy(bce) Cost function and helper functions.\n",
    "\n",
    "Feel free to look into the helper functions in the utils directory."
   ]
  },
  {
   "cell_type": "code",
   "execution_count": 1,
   "metadata": {},
   "outputs": [],
   "source": [
    "import numpy as np\n",
    "from Layers.LinearLayer import LinearLayer\n",
    "from Layers.ActivationLayer import SigmoidLayer\n",
    "from util.utilities import *\n",
    "from util.cost_functions import compute_stable_bce_cost\n",
    "\n",
    "# to show all the generated plots inline in the notebook\n",
    "%matplotlib inline"
   ]
  },
  {
   "cell_type": "markdown",
   "metadata": {},
   "source": [
    "![](imgs/verg_vs_other.png)"
   ]
  },
  {
   "cell_type": "markdown",
   "metadata": {},
   "source": [
    "For convenience we'll load the data through [scikit-learn](https://scikit-learn.org/stable/index.html#). \n",
    "\n",
    "If you don't have it installed please refer to this [link](https://scikit-learn.org/stable/install.html)"
   ]
  },
  {
   "cell_type": "code",
   "execution_count": 2,
   "metadata": {},
   "outputs": [],
   "source": [
    "# load data from scikit-learn's datasets module\n",
    "from sklearn.datasets import load_iris\n",
    "\n",
    "iris = load_iris()  # returns a python dictionary with the dataset"
   ]
  },
  {
   "cell_type": "markdown",
   "metadata": {},
   "source": [
    "Let's see what the dataset contains:"
   ]
  },
  {
   "cell_type": "code",
   "execution_count": 3,
   "metadata": {},
   "outputs": [
    {
     "data": {
      "text/plain": [
       "['data', 'target', 'target_names', 'DESCR', 'feature_names', 'filename']"
      ]
     },
     "execution_count": 3,
     "metadata": {},
     "output_type": "execute_result"
    }
   ],
   "source": [
    "list(iris.keys())"
   ]
  },
  {
   "cell_type": "markdown",
   "metadata": {},
   "source": [
    "- **data**: contains the 4 features of each example in a row, has 150 rows\n",
    "- **target**: contains the label for each example _(0->setosa, 1->versicolor, 2->virginica)_\n",
    "- **target_names**: contains the names of each target label\n",
    "- **DESCR**: contains the desription of the dataset\n",
    "- **feature_names**: contains the names of the 4 features(sepal length, sepal width, petal length, petal width)\n",
    "- **filename** : where the file is located on the computer\n"
   ]
  },
  {
   "cell_type": "markdown",
   "metadata": {},
   "source": [
    "Let's explore the data:"
   ]
  },
  {
   "cell_type": "code",
   "execution_count": 4,
   "metadata": {},
   "outputs": [
    {
     "data": {
      "text/plain": [
       "(150, 4)"
      ]
     },
     "execution_count": 4,
     "metadata": {},
     "output_type": "execute_result"
    }
   ],
   "source": [
    "iris.data.shape  # rows(examples), cols(features)"
   ]
  },
  {
   "cell_type": "code",
   "execution_count": 5,
   "metadata": {},
   "outputs": [
    {
     "data": {
      "text/plain": [
       "(150,)"
      ]
     },
     "execution_count": 5,
     "metadata": {},
     "output_type": "execute_result"
    }
   ],
   "source": [
    "iris.target.shape # labels for 150 flowers "
   ]
  },
  {
   "cell_type": "code",
   "execution_count": 6,
   "metadata": {},
   "outputs": [
    {
     "data": {
      "text/plain": [
       "array(['setosa', 'versicolor', 'virginica'],\n",
       "      dtype='<U10')"
      ]
     },
     "execution_count": 6,
     "metadata": {},
     "output_type": "execute_result"
    }
   ],
   "source": [
    "iris.target_names  # print the name of the 3 labels(species) the examples could belong to"
   ]
  },
  {
   "cell_type": "code",
   "execution_count": 7,
   "metadata": {},
   "outputs": [
    {
     "data": {
      "text/plain": [
       "['sepal length (cm)',\n",
       " 'sepal width (cm)',\n",
       " 'petal length (cm)',\n",
       " 'petal width (cm)']"
      ]
     },
     "execution_count": 7,
     "metadata": {},
     "output_type": "execute_result"
    }
   ],
   "source": [
    "iris.feature_names  # name of each feature in the data column"
   ]
  },
  {
   "cell_type": "code",
   "execution_count": 8,
   "metadata": {},
   "outputs": [
    {
     "data": {
      "text/plain": [
       "array([[ 5.1,  3.5,  1.4,  0.2],\n",
       "       [ 4.9,  3. ,  1.4,  0.2],\n",
       "       [ 4.7,  3.2,  1.3,  0.2],\n",
       "       [ 4.6,  3.1,  1.5,  0.2],\n",
       "       [ 5. ,  3.6,  1.4,  0.2]])"
      ]
     },
     "execution_count": 8,
     "metadata": {},
     "output_type": "execute_result"
    }
   ],
   "source": [
    "iris.data[:5, :]  # print first 5 examples from the Iris dataset"
   ]
  },
  {
   "cell_type": "code",
   "execution_count": 9,
   "metadata": {},
   "outputs": [
    {
     "data": {
      "text/plain": [
       "array([0, 0, 0, 0, 0])"
      ]
     },
     "execution_count": 9,
     "metadata": {},
     "output_type": "execute_result"
    }
   ],
   "source": [
    "iris.target[:5]  # print labels for the first 5 examples in the Iris dataset"
   ]
  },
  {
   "cell_type": "markdown",
   "metadata": {},
   "source": [
    "So, the data of the **first** 5 examples looks as follows:\n",
    "\n",
    "| exmaple# | sepal length (cm) | sepal width (cm) | petal length (cm) | petal width (cm) | target | target name|\n",
    "| --- | --- | --- || --- | --- | --- |\n",
    "| 0 | 5.1 | 3.5 | 1.4 |  0.2| 0|  setosa\n",
    "| 1 |4.9|  3. |  1.4|  0.2|0|  setosa\n",
    "| 2 |4.7|  3.2|  1.3|  0.2|0|  setosa\n",
    "| 3 |4.6|  3.1|  1.5|  0.2|0|  setosa\n",
    "| 4 |5. |  3.6|  1.4|  0.2|0|  setosa"
   ]
  },
  {
   "cell_type": "markdown",
   "metadata": {},
   "source": [
    "For our model we will only use **petal length and petal width** to classify whether the Iris flower is _virginica_ or _other_"
   ]
  },
  {
   "cell_type": "code",
   "execution_count": 10,
   "metadata": {},
   "outputs": [],
   "source": [
    "# take only petal length(2nd col) and petal width(3rd col)\n",
    "X = iris.data[:, 2:] \n",
    "\n",
    "# fix the labes shape so that instead of (150,) its (150,1),\n",
    "# helps avoiding weird broadcasting errors\n",
    "Y = (iris.target).reshape((150, 1))  "
   ]
  },
  {
   "cell_type": "code",
   "execution_count": 11,
   "metadata": {},
   "outputs": [
    {
     "data": {
      "text/plain": [
       "(150, 2)"
      ]
     },
     "execution_count": 11,
     "metadata": {},
     "output_type": "execute_result"
    }
   ],
   "source": [
    "X.shape"
   ]
  },
  {
   "cell_type": "code",
   "execution_count": 12,
   "metadata": {},
   "outputs": [
    {
     "data": {
      "text/plain": [
       "(150, 1)"
      ]
     },
     "execution_count": 12,
     "metadata": {},
     "output_type": "execute_result"
    }
   ],
   "source": [
    "Y.shape"
   ]
  },
  {
   "cell_type": "markdown",
   "metadata": {},
   "source": [
    "**Notice** in the table above that the first 5 examples belong to __'setosa'__ species, this pattern continues in the dataset(the pattern is all _setosa_ examples followed by _versicolor_ examples and finally _virginica_ examples). ___A good practice is to randomize the data before training a neural network so that the neural network by accident does not learn a trivial ordering pattern in the data.___\n",
    "\n",
    "So let's randomize the data"
   ]
  },
  {
   "cell_type": "code",
   "execution_count": 13,
   "metadata": {},
   "outputs": [],
   "source": [
    "np.random.seed(48)  # for reproducible randomization \n",
    "random_indices = np.random.permutation(len(X))  # genrate random indices\n",
    "\n",
    "X_train = X[random_indices]\n",
    "Y_train = Y[random_indices]"
   ]
  },
  {
   "cell_type": "markdown",
   "metadata": {},
   "source": [
    "Now let's again print the first 5 examples and see the results(note this time features are only two - petal lenght, petal width )"
   ]
  },
  {
   "cell_type": "code",
   "execution_count": 14,
   "metadata": {},
   "outputs": [
    {
     "data": {
      "text/plain": [
       "array([[ 4.2,  1.3],\n",
       "       [ 4.7,  1.2],\n",
       "       [ 5.6,  1.4],\n",
       "       [ 1.3,  0.3],\n",
       "       [ 4.8,  1.8]])"
      ]
     },
     "execution_count": 14,
     "metadata": {},
     "output_type": "execute_result"
    }
   ],
   "source": [
    "X_train[:5, :]"
   ]
  },
  {
   "cell_type": "code",
   "execution_count": 15,
   "metadata": {},
   "outputs": [
    {
     "data": {
      "text/plain": [
       "array([[1],\n",
       "       [1],\n",
       "       [2],\n",
       "       [0],\n",
       "       [1]])"
      ]
     },
     "execution_count": 15,
     "metadata": {},
     "output_type": "execute_result"
    }
   ],
   "source": [
    "Y_train[:5]"
   ]
  },
  {
   "cell_type": "markdown",
   "metadata": {},
   "source": [
    "Now, the data of the **first** 5 examples looks as follows:\n",
    "\n",
    "| exmaple# | petal length (cm) | petal width (cm) | target | target name|\n",
    "| --- | --- | --- || --- | \n",
    "| 0 |  4.2|  1.3| 1|  versicolor \n",
    "| 1 |  4.7|  1.2| 1|  versicolor\n",
    "| 2 |  5.6|  1.4| 2|  virginica\n",
    "| 3 |  1.3|  0.3| 0|  setosa\n",
    "| 4 |  4.8|  1.8| 1|  versicolor\n",
    "\n",
    "\n",
    "Finally, let's put training set(`X_train`)  & and labels(`Y_train`) in the correct shape `(feat, examples)`, `(examples,1)`. Also we'll make the target label ___virginica=1___ and the rest ___0___.  "
   ]
  },
  {
   "cell_type": "code",
   "execution_count": 16,
   "metadata": {},
   "outputs": [],
   "source": [
    "# Transpose the data so that it's in the correct shape \n",
    "# for passing through neural network\n",
    "# also binarize the classes viginica=1 and the rest 0\n",
    "X_train = X_train.T\n",
    "Y_train = Y_train.T  \n",
    "Y_train = (Y_train==2).astype('int')  # uses bool logic  to binarize labels, wherever label=2 output True(1) rest Flase(0)           "
   ]
  },
  {
   "cell_type": "code",
   "execution_count": 17,
   "metadata": {},
   "outputs": [
    {
     "name": "stdout",
     "output_type": "stream",
     "text": [
      "Shape of training data, X_train: (2, 150)\n",
      "Shape of  labels, Y_train: (1, 150)\n"
     ]
    }
   ],
   "source": [
    "print(\"Shape of training data, X_train: {}\".format(X_train.shape))\n",
    "print(\"Shape of  labels, Y_train: {}\".format(Y_train.shape))"
   ]
  },
  {
   "cell_type": "code",
   "execution_count": 18,
   "metadata": {},
   "outputs": [
    {
     "data": {
      "text/plain": [
       "array([[0, 0, 1, 0, 0]])"
      ]
     },
     "execution_count": 18,
     "metadata": {},
     "output_type": "execute_result"
    }
   ],
   "source": [
    "Y_train[:, :5]  # print first five examples"
   ]
  },
  {
   "cell_type": "markdown",
   "metadata": {},
   "source": [
    "Before training the neural net let's visulaize the data:"
   ]
  },
  {
   "cell_type": "code",
   "execution_count": 19,
   "metadata": {},
   "outputs": [
    {
     "data": {
      "image/png": "[encoded data removed]",
      "text/plain": [
       "<Figure size 432x288 with 1 Axes>"
      ]
     },
     "metadata": {
      "needs_background": "light"
     },
     "output_type": "display_data"
    }
   ],
   "source": [
    "cmap = matplotlib.colors.ListedColormap([\"red\", \"green\"], name='from_list', N=None)\n",
    "# scattter plot\n",
    "scatter = plt.scatter(X_train.T[:, 0], X_train.T[:, 1], \n",
    "            s=200, c=np.squeeze(Y_train.T), \n",
    "            marker='x', cmap=cmap)  # s-> size of marker\n",
    "\n",
    "plt.xlabel('petal lenght', size=20)\n",
    "plt.ylabel('petal width', size=20)\n",
    "plt.axhline(0, color='black')  # x-axis line\n",
    "plt.axvline(0, color='black')  # y-axis line\n",
    "\n",
    "plt.legend(scatter.legend_elements()[0], ['others', 'virginica'])\n",
    "\n",
    "plt.show()"
   ]
  },
  {
   "cell_type": "markdown",
   "metadata": {},
   "source": [
    "***\n",
    "***"
   ]
  },
  {
   "cell_type": "markdown",
   "metadata": {},
   "source": [
    "#### Now we are ready to setup and train the Neural Network\n",
    "\n",
    "This is the neural net architecture we'll use\n",
    "\n",
    "![](imgs/2in_1_layer_NN.png)"
   ]
  },
  {
   "cell_type": "code",
   "execution_count": 20,
   "metadata": {},
   "outputs": [],
   "source": [
    "# define training constants\n",
    "learning_rate = 1\n",
    "number_of_epochs = 5000\n",
    "\n",
    "np.random.seed(48) # set seed value so that the results are reproduceable\n",
    "                   # (weights will now be initailzaed to the same pseudo-random numbers, each time)\n",
    "\n",
    "# Our network architecture has the shape: \n",
    "#                       (input)--> [Linear->Sigmoid] -->(output)  \n",
    "\n",
    "\n",
    "#------ LAYER-1 ----- define output layer that takes in training data \n",
    "Z1 = LinearLayer(input_shape=X_train.shape, n_out=1, ini_type='plain')\n",
    "A1 = SigmoidLayer(Z1.Z.shape)"
   ]
  },
  {
   "cell_type": "markdown",
   "metadata": {},
   "source": [
    "Now we can start the training loop:"
   ]
  },
  {
   "cell_type": "code",
   "execution_count": 21,
   "metadata": {},
   "outputs": [
    {
     "name": "stdout",
     "output_type": "stream",
     "text": [
      "Cost at epoch#0: 0.6940642470994395\n",
      "Cost at epoch#100: 0.5444326702217493\n",
      "Cost at epoch#200: 0.32202096974373146\n",
      "Cost at epoch#300: 0.14014816058710747\n",
      "Cost at epoch#400: 0.13339262652145972\n",
      "Cost at epoch#500: 0.12803628892016888\n",
      "Cost at epoch#600: 0.12355187616680463\n",
      "Cost at epoch#700: 0.1197313837613812\n",
      "Cost at epoch#800: 0.11642930164741146\n",
      "Cost at epoch#900: 0.11354069211945084\n",
      "Cost at epoch#1000: 0.11098788012194992\n",
      "Cost at epoch#1100: 0.10871205967732583\n",
      "Cost at epoch#1200: 0.10666782560989109\n",
      "Cost at epoch#1300: 0.10481950855821856\n",
      "Cost at epoch#1400: 0.10313865627391225\n",
      "Cost at epoch#1500: 0.1016022635764503\n",
      "Cost at epoch#1600: 0.10019150322565124\n",
      "Cost at epoch#1700: 0.09889079932210257\n",
      "Cost at epoch#1800: 0.0976871395896589\n",
      "Cost at epoch#1900: 0.0965695572729011\n",
      "Cost at epoch#2000: 0.09552873545963989\n",
      "Cost at epoch#2100: 0.09455670110766981\n",
      "Cost at epoch#2200: 0.0936465857167\n",
      "Cost at epoch#2300: 0.09279243615004845\n",
      "Cost at epoch#2400: 0.09198906364130163\n",
      "Cost at epoch#2500: 0.09123192219501897\n",
      "Cost at epoch#2600: 0.09051700984480707\n",
      "Cost at epoch#2700: 0.08984078785383842\n",
      "Cost at epoch#2800: 0.08920011412368349\n",
      "Cost at epoch#2900: 0.08859218794677176\n",
      "Cost at epoch#3000: 0.0880145038847468\n",
      "Cost at epoch#3100: 0.08746481304116172\n",
      "Cost at epoch#3200: 0.08694109036572042\n",
      "Cost at epoch#3300: 0.08644150690942565\n",
      "Cost at epoch#3400: 0.0859644061676648\n",
      "Cost at epoch#3500: 0.0855082838174954\n",
      "Cost at epoch#3600: 0.08507177028793199\n",
      "Cost at epoch#3700: 0.08465361570655498\n",
      "Cost at epoch#3800: 0.08425267684873303\n",
      "Cost at epoch#3900: 0.08386790578202052\n",
      "Cost at epoch#4000: 0.08349833995153504\n",
      "Cost at epoch#4100: 0.08314309349513918\n",
      "Cost at epoch#4200: 0.08280134961219258\n",
      "Cost at epoch#4300: 0.082472353838163\n",
      "Cost at epoch#4400: 0.08215540810078603\n",
      "Cost at epoch#4500: 0.08184986545274062\n",
      "Cost at epoch#4600: 0.08155512539176944\n",
      "Cost at epoch#4700: 0.08127062969243247\n",
      "Cost at epoch#4800: 0.08099585868475366\n",
      "Cost at epoch#4900: 0.08073032792428664\n",
      "Cost at epoch#4999: 0.08047611054333165\n"
     ]
    }
   ],
   "source": [
    "costs = []  # initially empty list, this will store all the costs after a certain number of epochs\n",
    "\n",
    "# Start training\n",
    "for epoch in range(number_of_epochs):\n",
    "\n",
    "    # ------------------------- forward-prop -------------------------\n",
    "    Z1.forward(X_train)\n",
    "    A1.forward(Z1.Z)\n",
    "    \n",
    "    # ---------------------- Compute Cost ----------------------------\n",
    "    cost, dZ1 = compute_stable_bce_cost(Y_train, Z1.Z)\n",
    "    # print and store Costs every 100 iterations and of the last iteration.\n",
    "    if (epoch % 100) == 0 or epoch == number_of_epochs - 1:\n",
    "        print(\"Cost at epoch#{}: {}\".format(epoch, cost))\n",
    "        costs.append(cost)    \n",
    "\n",
    "    # ------------------------- back-prop ----------------------------        \n",
    "    Z1.backward(dZ1)\n",
    "      \n",
    "    # ----------------------- Update weights and bias ----------------\n",
    "    Z1.update_params(learning_rate=learning_rate)"
   ]
  },
  {
   "cell_type": "markdown",
   "metadata": {},
   "source": [
    "Now let's see how well the neural net peforms on the training data after the training as finished\n",
    "\n",
    "`predict` helper functionin the cell below returns three things:\n",
    "\n",
    "* `p`: predicted labels (output 1 if predictded output is greater than classification threshold `thresh`)\n",
    "* `probas`: raw probabilities (how sure the neural net thinks the output is 1, this is just `P_hat`)\n",
    "* `accuracy`: the number of correct predictions from total predictions\n",
    "\n"
   ]
  },
  {
   "cell_type": "code",
   "execution_count": 22,
   "metadata": {},
   "outputs": [
    {
     "name": "stdout",
     "output_type": "stream",
     "text": [
      "The predicted outputs of first 5 examples: \n",
      "[[ 0.  0.  1.  0.  1.]]\n",
      "The predicted prbabilities of first 5 examples:\n",
      " [[ 0.012  0.022  0.542  0.     0.719]]\n",
      "\n",
      "The accuracy of the model is: 96.0%\n"
     ]
    }
   ],
   "source": [
    "classifcation_thresh = 0.5\n",
    "\n",
    "\n",
    "predicted_outputs, p_hat, accuracy = predict(X=X_train, Y=Y_train, \n",
    "                                             Zs=[Z1], As=[A1], thresh=classifcation_thresh)\n",
    "\n",
    "print(\"The predicted outputs of first 5 examples: \\n{}\".format(predicted_outputs[:,:5]))\n",
    "print(\"The predicted prbabilities of first 5 examples:\\n {}\".format(np.round(p_hat[:, :5], decimals=3)) )\n",
    "print(\"\\nThe accuracy of the model is: {}%\".format(accuracy))"
   ]
  },
  {
   "cell_type": "markdown",
   "metadata": {},
   "source": [
    "#### The Learning Curve"
   ]
  },
  {
   "cell_type": "code",
   "execution_count": 23,
   "metadata": {},
   "outputs": [
    {
     "data": {
      "image/png": "[encoded data removed]",
      "text/plain": [
       "<Figure size 432x288 with 1 Axes>"
      ]
     },
     "metadata": {
      "needs_background": "light"
     },
     "output_type": "display_data"
    }
   ],
   "source": [
    "plot_learning_curve(costs, learning_rate, total_epochs=number_of_epochs)"
   ]
  },
  {
   "cell_type": "markdown",
   "metadata": {},
   "source": [
    "#### The Decision Boundary"
   ]
  },
  {
   "cell_type": "code",
   "execution_count": 24,
   "metadata": {},
   "outputs": [
    {
     "data": {
      "image/png": "[encoded data removed]",
      "text/plain": [
       "<Figure size 432x288 with 1 Axes>"
      ]
     },
     "metadata": {
      "needs_background": "light"
     },
     "output_type": "display_data"
    }
   ],
   "source": [
    "plot_decision_boundary(lambda x: predict_dec(Zs=[Z1], As=[A1], X=x.T, thresh=classifcation_thresh), \n",
    "                       X=X_train.T, Y=Y_train, axis_lines=True)"
   ]
  },
  {
   "cell_type": "markdown",
   "metadata": {},
   "source": [
    "In the plot $x_1=petal\\, lenght$ and $x_2=petal\\, width$ and:\n",
    "\n",
    "- `green`: virginica(1)\n",
    "- `red`: others(0)\n",
    "\n"
   ]
  },
  {
   "cell_type": "markdown",
   "metadata": {},
   "source": [
    "#### The Shaded Decision Boundary"
   ]
  },
  {
   "cell_type": "code",
   "execution_count": 27,
   "metadata": {},
   "outputs": [
    {
     "data": {
      "image/png": "[encoded data removed]",
      "text/plain": [
       "<Figure size 432x288 with 1 Axes>"
      ]
     },
     "metadata": {},
     "output_type": "display_data"
    }
   ],
   "source": [
    "plot_decision_boundary_shaded(lambda x: predict_dec(Zs=[Z1], As=[A1], X=x.T, thresh=classifcation_thresh), \n",
    "                       X=X_train.T, Y=Y_train, axis_lines=True)"
   ]
  },
  {
   "cell_type": "markdown",
   "metadata": {},
   "source": [
    "### Bonus\n",
    "\n",
    "Try playing with the `classification_thresh` and visualize the effects"
   ]
  }
 ],
 "metadata": {
  "kernelspec": {
   "display_name": "Python 3",
   "language": "python",
   "name": "python3"
  },
  "language_info": {
   "codemirror_mode": {
    "name": "ipython",
    "version": 3
   },
   "file_extension": ".py",
   "mimetype": "text/x-python",
   "name": "python",
   "nbconvert_exporter": "python",
   "pygments_lexer": "ipython3",
   "version": "3.6.7"
  }
 },
 "nbformat": 4,
 "nbformat_minor": 2
}

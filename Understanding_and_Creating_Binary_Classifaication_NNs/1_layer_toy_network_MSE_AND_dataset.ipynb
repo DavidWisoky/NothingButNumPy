{
 "cells": [
  {
   "cell_type": "markdown",
   "metadata": {},
   "source": [
    "# Nothing But NumPy: A 1-layer Binary Classification Neural Network on AND data Using MSE Cost function\n",
    "\n",
    "Part of the blog [\"Nothing but NumPy: Understanding & Creating Binary Classification Neural Networks with Computational Graphs from Scratch\"](https://medium.com/@rafayak/nothing-but-numpy-understanding-creating-binary-classification-neural-networks-with-e746423c8d5c)- by [Rafay Khan](https://twitter.com/RafayAK)\n",
    "\n",
    "In this notebook we'll create a 1-layer neural network (i.e. just an output layer) and train it on AND dataset. We'll set custom weights and see the shortfall of using Mean Squared Error(MSE) Cost function in a Binary Classification setting. \n",
    "\n",
    "First, let's import NumPy, our neural net Layers, the Cost functions and helper functions.\n",
    "\n",
    "_Feel free to look into the helper functions in the utils directory._"
   ]
  },
  {
   "cell_type": "code",
   "execution_count": 1,
   "metadata": {},
   "outputs": [],
   "source": [
    "import numpy as np\n",
    "from Layers.LinearLayer import LinearLayer\n",
    "from Layers.ActivationLayer import SigmoidLayer\n",
    "from util.utilities import *\n",
    "from util.cost_functions import compute_mse_cost, compute_stable_bce_cost, compute_bce_cost, compute_keras_like_bce_cost\n",
    "\n",
    "# to show all the generated plots inline in the notebook\n",
    "%matplotlib inline"
   ]
  },
  {
   "cell_type": "markdown",
   "metadata": {},
   "source": [
    "#### The AND data:\n",
    "\n",
    "![](imgs/AND_table_with_plot.png)"
   ]
  },
  {
   "cell_type": "code",
   "execution_count": 2,
   "metadata": {},
   "outputs": [],
   "source": [
    "# This is our AND gate data \n",
    "\n",
    "X = np.array([\n",
    "    [0, 0],\n",
    "    [0, 1],\n",
    "    [1, 0],\n",
    "    [1, 1]\n",
    "])\n",
    "\n",
    "\n",
    "Y = np.array([\n",
    "    [0],\n",
    "    [0],\n",
    "    [0],\n",
    "    [1]\n",
    "])"
   ]
  },
  {
   "cell_type": "markdown",
   "metadata": {},
   "source": [
    "Let's set up training data. Recall, data needs to be in $(features \\times \\text{number_of_examples})$ shape. So, we need to transpose X and Y."
   ]
  },
  {
   "cell_type": "code",
   "execution_count": 3,
   "metadata": {},
   "outputs": [],
   "source": [
    "X_train = X.T\n",
    "Y_train = Y.T"
   ]
  },
  {
   "cell_type": "code",
   "execution_count": 4,
   "metadata": {},
   "outputs": [
    {
     "data": {
      "text/plain": [
       "array([[0, 0, 1, 1],\n",
       "       [0, 1, 0, 1]])"
      ]
     },
     "execution_count": 4,
     "metadata": {},
     "output_type": "execute_result"
    }
   ],
   "source": [
    "X_train"
   ]
  },
  {
   "cell_type": "code",
   "execution_count": 5,
   "metadata": {},
   "outputs": [
    {
     "data": {
      "text/plain": [
       "array([[0, 0, 0, 1]])"
      ]
     },
     "execution_count": 5,
     "metadata": {},
     "output_type": "execute_result"
    }
   ],
   "source": [
    "Y_train"
   ]
  },
  {
   "cell_type": "markdown",
   "metadata": {},
   "source": [
    "This is the neural net architecture we'll use\n",
    "\n",
    "![](imgs/2in_1_layer_NN.png)"
   ]
  },
  {
   "cell_type": "code",
   "execution_count": 6,
   "metadata": {},
   "outputs": [],
   "source": [
    "# define training constants\n",
    "learning_rate = 1\n",
    "number_of_epochs = 5000\n",
    "\n",
    "np.random.seed(48) # set seed value so that the results are reproduceable\n",
    "                   # (weights will now be initailzaed to the same pseudo-random numbers, each time)\n",
    "\n",
    "# Our network architecture has the shape: \n",
    "#                       (input)--> [Linear->Sigmoid] -->(output)  \n",
    "\n",
    "\n",
    "#------ LAYER-1 ----- define output layer that takes in training data \n",
    "Z1 = LinearLayer(input_shape=X_train.shape, n_out=1, ini_type='plain')\n",
    "A1 = SigmoidLayer(Z1.Z.shape)"
   ]
  },
  {
   "cell_type": "markdown",
   "metadata": {},
   "source": [
    "We'll set custom weights to break Mean Squared Error Cost function for gradient descent.\n",
    "\n",
    "Let's see what's the shape of the weight matrix($W$)"
   ]
  },
  {
   "cell_type": "code",
   "execution_count": 7,
   "metadata": {},
   "outputs": [
    {
     "data": {
      "text/plain": [
       "(1, 2)"
      ]
     },
     "execution_count": 7,
     "metadata": {},
     "output_type": "execute_result"
    }
   ],
   "source": [
    "Z1.params['W'].shape"
   ]
  },
  {
   "cell_type": "markdown",
   "metadata": {},
   "source": [
    "So, the new weights will also need to be of the same shape"
   ]
  },
  {
   "cell_type": "code",
   "execution_count": 8,
   "metadata": {},
   "outputs": [],
   "source": [
    "Z1.params['W'] = np.array([[-10, 60]])"
   ]
  },
  {
   "cell_type": "code",
   "execution_count": 9,
   "metadata": {},
   "outputs": [
    {
     "data": {
      "text/plain": [
       "{'W': array([[-10,  60]]), 'b': array([[ 0.]])}"
      ]
     },
     "execution_count": 9,
     "metadata": {},
     "output_type": "execute_result"
    }
   ],
   "source": [
    "Z1.params  # params for a linear layer are weights(W) and biases(b), stored in a dictionary"
   ]
  },
  {
   "cell_type": "markdown",
   "metadata": {},
   "source": [
    "Now we can start the training loop:"
   ]
  },
  {
   "cell_type": "code",
   "execution_count": 10,
   "metadata": {},
   "outputs": [
    {
     "name": "stdout",
     "output_type": "stream",
     "text": [
      "Cost at epoch#0: 0.1562500002576208\n",
      "Cost at epoch#100: 0.1291735909412119\n",
      "Cost at epoch#200: 0.12688149709290097\n",
      "Cost at epoch#300: 0.12617626580805902\n",
      "Cost at epoch#400: 0.12584559300260187\n",
      "Cost at epoch#500: 0.12565627734621776\n",
      "Cost at epoch#600: 0.12553447923266486\n",
      "Cost at epoch#700: 0.12544988783459748\n",
      "Cost at epoch#800: 0.12538787511021365\n",
      "Cost at epoch#900: 0.12534055052085766\n",
      "Cost at epoch#1000: 0.12530329644095023\n",
      "Cost at epoch#1100: 0.12527323672250662\n",
      "Cost at epoch#1200: 0.12524848939298686\n",
      "Cost at epoch#1300: 0.12522777278273756\n",
      "Cost at epoch#1400: 0.12521018468712414\n",
      "Cost at epoch#1500: 0.12519507209383407\n",
      "Cost at epoch#1600: 0.12518195099769108\n",
      "Cost at epoch#1700: 0.12517045523023962\n",
      "Cost at epoch#1800: 0.12516030277453224\n",
      "Cost at epoch#1900: 0.12515127298278708\n",
      "Cost at epoch#2000: 0.1251431907979599\n",
      "Cost at epoch#2100: 0.12513591559406895\n",
      "Cost at epoch#2200: 0.12512933313404928\n",
      "Cost at epoch#2300: 0.12512334967604713\n",
      "Cost at epoch#2400: 0.12511788758823347\n",
      "Cost at epoch#2500: 0.12511288204086518\n",
      "Cost at epoch#2600: 0.12510827847951447\n",
      "Cost at epoch#2700: 0.12510403067275325\n",
      "Cost at epoch#2800: 0.1251000991877359\n",
      "Cost at epoch#2900: 0.1250964501882969\n",
      "Cost at epoch#3000: 0.12509305447879604\n",
      "Cost at epoch#3100: 0.12508988673711377\n",
      "Cost at epoch#3200: 0.12508692489460294\n",
      "Cost at epoch#3300: 0.1250841496312149\n",
      "Cost at epoch#3400: 0.12508154396162774\n",
      "Cost at epoch#3500: 0.12507909289382693\n",
      "Cost at epoch#3600: 0.12507678314578227\n",
      "Cost at epoch#3700: 0.12507460290902334\n",
      "Cost at epoch#3800: 0.12507254165031162\n",
      "Cost at epoch#3900: 0.12507058994444656\n",
      "Cost at epoch#4000: 0.12506873933265575\n",
      "Cost at epoch#4100: 0.1250669822021222\n",
      "Cost at epoch#4200: 0.12506531168306306\n",
      "Cost at epoch#4300: 0.1250637215604502\n",
      "Cost at epoch#4400: 0.12506220619800332\n",
      "Cost at epoch#4500: 0.12506076047251174\n",
      "Cost at epoch#4600: 0.12505937971688713\n",
      "Cost at epoch#4700: 0.12505805967062283\n",
      "Cost at epoch#4800: 0.1250567964365623\n",
      "Cost at epoch#4900: 0.1250555864430598\n",
      "Cost at epoch#4999: 0.12505443777388855\n"
     ]
    }
   ],
   "source": [
    "costs = []  # initially empty list, this will store all the costs after a certain number of epochs\n",
    "\n",
    "# Start training\n",
    "for epoch in range(number_of_epochs):\n",
    "\n",
    "    # ------------------------- forward-prop -------------------------\n",
    "    Z1.forward(X_train)\n",
    "    A1.forward(Z1.Z)\n",
    "    \n",
    "    # ---------------------- Compute Cost ----------------------------\n",
    "    cost, dA1 = compute_mse_cost(Y=Y_train, Y_hat=A1.A)\n",
    "    \n",
    "    # print and store Costs every 100 iterations and of the last iteration.\n",
    "    if (epoch % 100) == 0 or epoch == number_of_epochs - 1:\n",
    "        print(\"Cost at epoch#{}: {}\".format(epoch, cost))\n",
    "        costs.append(cost)    \n",
    "\n",
    "    # ------------------------- back-prop ----------------------------        \n",
    "    A1.backward(dA1)\n",
    "    Z1.backward(A1.dZ)\n",
    "    \n",
    "    # ----------------------- Update weights and bias ----------------\n",
    "    Z1.update_params(learning_rate=learning_rate)"
   ]
  },
  {
   "cell_type": "markdown",
   "metadata": {},
   "source": [
    "#### We have broken Gradient Descent by exploiting MSE Cost function in a Binary Classifer. No matter the Learning rate, Gradient Descent cannot recover from a bad postion(concave area) on the the Loss/Cost Curve    "
   ]
  },
  {
   "cell_type": "markdown",
   "metadata": {},
   "source": [
    "Now let's see how well the neural net peforms on the training data after the training as finished\n",
    "\n",
    "`predict` helper functionin the cell below returns three things:\n",
    "\n",
    "* `p`: predicted labels (output 1 if predictded output is greater than classification threshold `thresh`)\n",
    "* `probas`: raw probabilities (how sure the neural net thinks the output is 1, this is just `P_hat`)\n",
    "* `accuracy`: the number of correct predictions from total predictions\n",
    "\n"
   ]
  },
  {
   "cell_type": "code",
   "execution_count": 11,
   "metadata": {},
   "outputs": [
    {
     "name": "stdout",
     "output_type": "stream",
     "text": [
      "The predicted outputs of first 5 examples: \n",
      "[[ 0.  1.  0.  1.]]\n",
      "The predicted prbabilities of first 5 examples:\n",
      " [[ 0.021  1.     0.     1.   ]]\n",
      "\n",
      "The accuracy of the model is: 75.0%\n"
     ]
    }
   ],
   "source": [
    "classifcation_thresh = 0.5\n",
    "\n",
    "\n",
    "predicted_outputs, p_hat, accuracy = predict(X=X_train, Y=Y_train, \n",
    "                                             Zs=[Z1], As=[A1], thresh=classifcation_thresh)\n",
    "\n",
    "print(\"The predicted outputs of first 5 examples: \\n{}\".format(predicted_outputs[:,:5]))\n",
    "print(\"The predicted prbabilities of first 5 examples:\\n {}\".format(np.round(p_hat[:, :5], decimals=3)) )\n",
    "print(\"\\nThe accuracy of the model is: {}%\".format(accuracy))"
   ]
  },
  {
   "cell_type": "markdown",
   "metadata": {},
   "source": [
    "___The accuracy of model shows it doing ok, but recall from the blog that accuracy alone is a misleading metric. Let's plot the Decision Boundary and make things much more clear___\n",
    "\n",
    "\n",
    "#### The Learning Curve"
   ]
  },
  {
   "cell_type": "code",
   "execution_count": 12,
   "metadata": {},
   "outputs": [
    {
     "data": {
      "image/png": "[encoded data removed]",
      "text/plain": [
       "<Figure size 432x288 with 1 Axes>"
      ]
     },
     "metadata": {
      "needs_background": "light"
     },
     "output_type": "display_data"
    }
   ],
   "source": [
    "plot_learning_curve(costs, learning_rate, total_epochs=number_of_epochs, save=True)"
   ]
  },
  {
   "cell_type": "markdown",
   "metadata": {},
   "source": [
    "#### The Decision Boundary"
   ]
  },
  {
   "cell_type": "code",
   "execution_count": 13,
   "metadata": {},
   "outputs": [
    {
     "data": {
      "image/png": "[encoded data removed]",
      "text/plain": [
       "<Figure size 432x288 with 1 Axes>"
      ]
     },
     "metadata": {
      "needs_background": "light"
     },
     "output_type": "display_data"
    }
   ],
   "source": [
    "plot_decision_boundary(lambda x: predict_dec(Zs=[Z1], As=[A1], X=x.T, thresh=classifcation_thresh), \n",
    "                       X=X_train.T, Y=Y_train, axis_lines=True, save=True)"
   ]
  },
  {
   "cell_type": "markdown",
   "metadata": {},
   "source": [
    "#### The Shaded Decision Boundary"
   ]
  },
  {
   "cell_type": "code",
   "execution_count": 14,
   "metadata": {
    "scrolled": true
   },
   "outputs": [
    {
     "data": {
      "image/png": "[encoded data removed]",
      "text/plain": [
       "<Figure size 432x288 with 1 Axes>"
      ]
     },
     "metadata": {},
     "output_type": "display_data"
    }
   ],
   "source": [
    "plot_decision_boundary_shaded(lambda x: predict_dec(Zs=[Z1], As=[A1], X=x.T, thresh=classifcation_thresh), \n",
    "                       X=X_train.T, Y=Y_train, axis_lines=True, save=True)"
   ]
  },
  {
   "cell_type": "markdown",
   "metadata": {},
   "source": [
    "#### The Decision Boundary with Shortest Distances\n",
    "\n",
    "Play with the `classifcation_thresh` and visualize the effects"
   ]
  },
  {
   "cell_type": "code",
   "execution_count": 15,
   "metadata": {},
   "outputs": [
    {
     "data": {
      "image/png": "[encoded data removed]",
      "text/plain": [
       "<Figure size 432x288 with 1 Axes>"
      ]
     },
     "metadata": {},
     "output_type": "display_data"
    }
   ],
   "source": [
    "plot_decision_boundary_distances(lambda x: predict_dec(Zs=[Z1], As=[A1], X=x.T, thresh=classifcation_thresh), \n",
    "                       X=X_train.T, Y=Y_train, axis_lines=True)"
   ]
  },
  {
   "cell_type": "markdown",
   "metadata": {},
   "source": [
    "### Bonus\n",
    "\n",
    "* Try changing the weights to small values eg. `[0.1, 0.6]`, keeping MSE Cost function and see if it helps(Can you recall the reason why this __works__?).\n",
    "\n",
    "* Try changing the Cost function to `compute_bce_cost`(unstable) keeping the weights same i.e `[-10, 60]`(Can you recall the reason why this does __not__ work?).\n",
    "\n",
    "* Try changing the Cost function to either `compute_stable_bce_cost` or `compute_keras_like_bce_cost`(these two require tinkering with the backward and forward flow of computations, look at other notebooks or the blog for help), keeping the weights same i.e `[-10, 60]`(Can you recall the reason why this __works__?)."
   ]
  }
 ],
 "metadata": {
  "kernelspec": {
   "display_name": "Python 3",
   "language": "python",
   "name": "python3"
  },
  "language_info": {
   "codemirror_mode": {
    "name": "ipython",
    "version": 3
   },
   "file_extension": ".py",
   "mimetype": "text/x-python",
   "name": "python",
   "nbconvert_exporter": "python",
   "pygments_lexer": "ipython3",
   "version": "3.6.7"
  }
 },
 "nbformat": 4,
 "nbformat_minor": 2
}
